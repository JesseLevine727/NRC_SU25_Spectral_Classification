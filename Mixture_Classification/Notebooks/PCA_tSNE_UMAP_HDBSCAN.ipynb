{
 "cells": [
  {
   "cell_type": "markdown",
   "id": "e2b4af63",
   "metadata": {},
   "source": [
    "Pure Raman Single Spectrum PCA, tSNE, UMAP, HDBSCAN vs Siamese Embeddings"
   ]
  },
  {
   "cell_type": "code",
   "execution_count": null,
   "id": "f026f177",
   "metadata": {},
   "outputs": [],
   "source": [
    "import torch\n",
    "import torch.nn as nn\n",
    "import torch.nn.functional as F\n",
    "from torch.utils.data import Dataset, DataLoader\n",
    "import pandas as pd\n",
    "import  numpy as np\n",
    "from sklearn.metrics import accuracy_score, confusion_matrix\n",
    "import matplotlib.pyplot as plt\n",
    "from sklearn.decomposition import PCA\n",
    "from sklearn.manifold import TSNE\n",
    "import seaborn as sns"
   ]
  }
 ],
 "metadata": {
  "kernelspec": {
   "display_name": "Python 3",
   "language": "python",
   "name": "python3"
  },
  "language_info": {
   "name": "python",
   "version": "3.13.3"
  }
 },
 "nbformat": 4,
 "nbformat_minor": 5
}
