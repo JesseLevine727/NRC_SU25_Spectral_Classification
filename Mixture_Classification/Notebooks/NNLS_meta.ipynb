{
 "cells": [
  {
   "cell_type": "code",
   "execution_count": 41,
   "id": "062b48e4",
   "metadata": {},
   "outputs": [],
   "source": [
    "import pandas as pd\n",
    "import numpy as np\n",
    "from sklearn.linear_model import Lasso\n",
    "from scipy.optimize import nnls\n",
    "from scipy.signal import find_peaks\n",
    "from sklearn.metrics import accuracy_score, precision_score, recall_score\n",
    "from sklearn.ensemble import RandomForestClassifier\n",
    "import itertools"
   ]
  },
  {
   "cell_type": "code",
   "execution_count": 42,
   "id": "8a3935fe",
   "metadata": {},
   "outputs": [],
   "source": [
    "ref_df = pd.read_csv(\"reference_v2.csv\")\n",
    "query_df = pd.read_csv(\"query_v2.csv\")\n",
    "\n",
    "crop_max = 1500"
   ]
  },
  {
   "cell_type": "code",
   "execution_count": 43,
   "id": "c284e7fc",
   "metadata": {},
   "outputs": [],
   "source": [
    "def baseline_AsLS(y, lam=1e4, p=0.01, niter=10):\n",
    "    L = len(y)\n",
    "    D = np.diff(np.eye(L), 2)\n",
    "    D = lam * D.dot(D.T)\n",
    "    w = np.ones(L)\n",
    "    for _ in range(niter):\n",
    "        b = np.linalg.solve(np.diag(w) + D, w * y)\n",
    "        w = p * (y > b) + (1 - p) * (y < b)\n",
    "    return b\n",
    "\n",
    "def preprocess(arr, lam=1e4, p=0.01, niter=10):\n",
    "    out = np.zeros_like(arr)\n",
    "    for i, spec in enumerate(arr):\n",
    "        bkg = baseline_AsLS(spec, lam=lam, p=p, niter=niter)\n",
    "        corr = spec - bkg\n",
    "        nrm = np.linalg.norm(corr)\n",
    "        normed = corr / nrm if nrm else corr\n",
    "        out[i] = np.abs(normed)\n",
    "    return out\n",
    "\n",
    "def extract_cps(spectra, num_peaks=15, height=0.01, prominence=0.01):\n",
    "    counts = np.zeros(spectra.shape[1])\n",
    "    for spec in spectra:\n",
    "        peaks, _ = find_peaks(spec, height=height, prominence=prominence)\n",
    "        counts[peaks] += 1\n",
    "    top_peaks = np.argsort(counts)[-num_peaks:]\n",
    "    return sorted(top_peaks)\n",
    "\n",
    "def l1_nnls(A, b, alpha=0.001):\n",
    "    lasso = Lasso(alpha=alpha, positive=True, max_iter=10000)\n",
    "    lasso.fit(A, b)\n",
    "    return lasso.coef_"
   ]
  },
  {
   "cell_type": "code",
   "execution_count": 44,
   "id": "0c8de54a",
   "metadata": {},
   "outputs": [],
   "source": [
    "all_cols = ref_df.columns.drop(\"Label\")\n",
    "wavenumbers = pd.to_numeric(all_cols, errors=\"coerce\")\n",
    "valid_cols = all_cols[wavenumbers < 1500]\n",
    "\n",
    "ref_data = ref_df[valid_cols].values\n",
    "query_data = query_df[valid_cols].values\n",
    "ref_labels = ref_df[\"Label\"].values\n",
    "\n",
    "X_ref = preprocess(ref_data)\n",
    "X_query = preprocess(query_data)\n",
    "\n",
    "# Build reference spectra dictionary\n",
    "classes = np.unique(ref_labels)\n",
    "ref_spectra_avg = {c: X_ref[ref_labels == c].mean(axis=0) for c in classes}\n",
    "ref_matrix = np.array([ref_spectra_avg[c] for c in classes])\n",
    "\n",
    "# Use peak-domain CPs\n",
    "cps = extract_cps(X_ref, num_peaks=15)\n",
    "ref_matrix_cps = ref_matrix[:, cps]\n",
    "X_query_cps = X_query[:, cps]"
   ]
  },
  {
   "cell_type": "code",
   "execution_count": 45,
   "id": "15e081c6",
   "metadata": {},
   "outputs": [],
   "source": [
    "# Get weights for each query using l1-penalized NNLS\n",
    "weights_l1 = np.array([l1_nnls(ref_matrix_cps.T, q) for q in X_query_cps])\n",
    "\n",
    "# Build binary targets for meta-model\n",
    "y_multi = np.array([[label in (l1, l2) for label in classes]\n",
    "                    for l1, l2 in zip(query_df[\"Label 1\"], query_df[\"Label 2\"])])\n",
    "\n",
    "# Train a random forest meta-classifier per chemical\n",
    "meta_models = {}\n",
    "for i, chem in enumerate(classes):\n",
    "    clf = RandomForestClassifier(n_estimators=100, random_state=42)\n",
    "    clf.fit(weights_l1, y_multi[:, i])\n",
    "    meta_models[chem] = clf\n",
    "\n",
    "# Use meta-models to predict presence probabilities\n",
    "proba_preds = np.array([meta_models[c].predict([w])[0] for w in weights_l1 for c in classes])\n",
    "proba_preds = proba_preds.reshape(len(weights_l1), len(classes))\n",
    "\n",
    "# Get binary predictions\n",
    "binary_preds = (proba_preds > 0.5).astype(int)\n",
    "predicted_labels = [[c for j, c in enumerate(classes) if row[j]] for row in binary_preds]\n",
    "\n",
    "# Evaluation\n",
    "true1 = query_df[\"Label 1\"].values\n",
    "true2 = query_df[\"Label 2\"].values\n",
    "results_df = pd.DataFrame({\"True1\": true1, \"True2\": true2, \"Predicted\": predicted_labels}) "
   ]
  },
  {
   "cell_type": "code",
   "execution_count": 46,
   "id": "91fa1db2",
   "metadata": {},
   "outputs": [],
   "source": [
    "metrics = {}\n",
    "for i, chem in enumerate(classes):\n",
    "    y_true = [(chem in [l1, l2]) for l1, l2 in zip(true1, true2)]\n",
    "    y_pred = binary_preds[:, i]\n",
    "    acc = accuracy_score(y_true, y_pred)\n",
    "    prec = precision_score(y_true, y_pred, zero_division=0)\n",
    "    rec = recall_score(y_true, y_pred, zero_division=0)\n",
    "    metrics[chem] = {\"Accuracy\": acc, \"Precision\": prec, \"Recall\": rec}\n",
    "\n",
    "metrics_df = pd.DataFrame.from_dict(metrics, orient=\"index\")\n",
    "filtered_metrics_df = metrics_df[~((metrics_df[\"Precision\"] == 0) & (metrics_df[\"Recall\"] == 0))]\n",
    "\n",
    "# Total accuracy (both labels must be predicted)\n",
    "correct = [l1 in p and l2 in p for l1, l2, p in zip(true1, true2, predicted_labels)]\n",
    "total_accuracy = sum(correct) / len(correct)\n"
   ]
  },
  {
   "cell_type": "code",
   "execution_count": 47,
   "id": "7f23de73",
   "metadata": {},
   "outputs": [
    {
     "name": "stdout",
     "output_type": "stream",
     "text": [
      "                              Accuracy  Precision  Recall\n",
      "1,9-nonanedithiol             1.000000       1.00    1.00\n",
      "1-dodecanethiol               0.966667       1.00    0.90\n",
      "1-undecanethiol               1.000000       1.00    1.00\n",
      "6-mercapto-1-hexanol          0.966667       1.00    0.75\n",
      "benzene                       0.933333       0.75    1.00\n",
      "benzenethiol                  0.966667       1.00    0.50\n",
      "etoh                          1.000000       1.00    1.00\n",
      "meoh                          0.966667       1.00    0.90\n",
      "n,n-dimethylformamide         1.000000       1.00    1.00\n",
      "pyridine                      1.000000       1.00    1.00\n",
      "tris(2-ethylhexyl) phosphate  1.000000       1.00    1.00\n"
     ]
    }
   ],
   "source": [
    "print(filtered_metrics_df)"
   ]
  },
  {
   "cell_type": "code",
   "execution_count": 49,
   "id": "6436d3eb",
   "metadata": {},
   "outputs": [
    {
     "data": {
      "application/vnd.microsoft.datawrangler.viewer.v0+json": {
       "columns": [
        {
         "name": "index",
         "rawType": "object",
         "type": "string"
        },
        {
         "name": "Accuracy",
         "rawType": "float64",
         "type": "float"
        },
        {
         "name": "Precision",
         "rawType": "float64",
         "type": "float"
        },
        {
         "name": "Recall",
         "rawType": "float64",
         "type": "float"
        }
       ],
       "ref": "e35e93c1-687c-4479-82e6-87f7855b42bc",
       "rows": [
        [
         "1,9-nonanedithiol",
         "1.0",
         "1.0",
         "1.0"
        ],
        [
         "1-dodecanethiol",
         "0.9666666666666667",
         "1.0",
         "0.9"
        ],
        [
         "1-undecanethiol",
         "1.0",
         "1.0",
         "1.0"
        ],
        [
         "6-mercapto-1-hexanol",
         "0.9666666666666667",
         "1.0",
         "0.75"
        ],
        [
         "benzene",
         "0.9333333333333333",
         "0.75",
         "1.0"
        ],
        [
         "benzenethiol",
         "0.9666666666666667",
         "1.0",
         "0.5"
        ],
        [
         "etoh",
         "1.0",
         "1.0",
         "1.0"
        ],
        [
         "meoh",
         "0.9666666666666667",
         "1.0",
         "0.9"
        ],
        [
         "n,n-dimethylformamide",
         "1.0",
         "1.0",
         "1.0"
        ],
        [
         "pyridine",
         "1.0",
         "1.0",
         "1.0"
        ],
        [
         "tris(2-ethylhexyl) phosphate",
         "1.0",
         "1.0",
         "1.0"
        ]
       ],
       "shape": {
        "columns": 3,
        "rows": 11
       }
      },
      "text/html": [
       "<div>\n",
       "<style scoped>\n",
       "    .dataframe tbody tr th:only-of-type {\n",
       "        vertical-align: middle;\n",
       "    }\n",
       "\n",
       "    .dataframe tbody tr th {\n",
       "        vertical-align: top;\n",
       "    }\n",
       "\n",
       "    .dataframe thead th {\n",
       "        text-align: right;\n",
       "    }\n",
       "</style>\n",
       "<table border=\"1\" class=\"dataframe\">\n",
       "  <thead>\n",
       "    <tr style=\"text-align: right;\">\n",
       "      <th></th>\n",
       "      <th>Accuracy</th>\n",
       "      <th>Precision</th>\n",
       "      <th>Recall</th>\n",
       "    </tr>\n",
       "  </thead>\n",
       "  <tbody>\n",
       "    <tr>\n",
       "      <th>1,9-nonanedithiol</th>\n",
       "      <td>1.000000</td>\n",
       "      <td>1.00</td>\n",
       "      <td>1.00</td>\n",
       "    </tr>\n",
       "    <tr>\n",
       "      <th>1-dodecanethiol</th>\n",
       "      <td>0.966667</td>\n",
       "      <td>1.00</td>\n",
       "      <td>0.90</td>\n",
       "    </tr>\n",
       "    <tr>\n",
       "      <th>1-undecanethiol</th>\n",
       "      <td>1.000000</td>\n",
       "      <td>1.00</td>\n",
       "      <td>1.00</td>\n",
       "    </tr>\n",
       "    <tr>\n",
       "      <th>6-mercapto-1-hexanol</th>\n",
       "      <td>0.966667</td>\n",
       "      <td>1.00</td>\n",
       "      <td>0.75</td>\n",
       "    </tr>\n",
       "    <tr>\n",
       "      <th>benzene</th>\n",
       "      <td>0.933333</td>\n",
       "      <td>0.75</td>\n",
       "      <td>1.00</td>\n",
       "    </tr>\n",
       "    <tr>\n",
       "      <th>benzenethiol</th>\n",
       "      <td>0.966667</td>\n",
       "      <td>1.00</td>\n",
       "      <td>0.50</td>\n",
       "    </tr>\n",
       "    <tr>\n",
       "      <th>etoh</th>\n",
       "      <td>1.000000</td>\n",
       "      <td>1.00</td>\n",
       "      <td>1.00</td>\n",
       "    </tr>\n",
       "    <tr>\n",
       "      <th>meoh</th>\n",
       "      <td>0.966667</td>\n",
       "      <td>1.00</td>\n",
       "      <td>0.90</td>\n",
       "    </tr>\n",
       "    <tr>\n",
       "      <th>n,n-dimethylformamide</th>\n",
       "      <td>1.000000</td>\n",
       "      <td>1.00</td>\n",
       "      <td>1.00</td>\n",
       "    </tr>\n",
       "    <tr>\n",
       "      <th>pyridine</th>\n",
       "      <td>1.000000</td>\n",
       "      <td>1.00</td>\n",
       "      <td>1.00</td>\n",
       "    </tr>\n",
       "    <tr>\n",
       "      <th>tris(2-ethylhexyl) phosphate</th>\n",
       "      <td>1.000000</td>\n",
       "      <td>1.00</td>\n",
       "      <td>1.00</td>\n",
       "    </tr>\n",
       "  </tbody>\n",
       "</table>\n",
       "</div>"
      ],
      "text/plain": [
       "                              Accuracy  Precision  Recall\n",
       "1,9-nonanedithiol             1.000000       1.00    1.00\n",
       "1-dodecanethiol               0.966667       1.00    0.90\n",
       "1-undecanethiol               1.000000       1.00    1.00\n",
       "6-mercapto-1-hexanol          0.966667       1.00    0.75\n",
       "benzene                       0.933333       0.75    1.00\n",
       "benzenethiol                  0.966667       1.00    0.50\n",
       "etoh                          1.000000       1.00    1.00\n",
       "meoh                          0.966667       1.00    0.90\n",
       "n,n-dimethylformamide         1.000000       1.00    1.00\n",
       "pyridine                      1.000000       1.00    1.00\n",
       "tris(2-ethylhexyl) phosphate  1.000000       1.00    1.00"
      ]
     },
     "execution_count": 49,
     "metadata": {},
     "output_type": "execute_result"
    }
   ],
   "source": [
    "filtered_metrics_df"
   ]
  }
 ],
 "metadata": {
  "kernelspec": {
   "display_name": "Python 3",
   "language": "python",
   "name": "python3"
  },
  "language_info": {
   "codemirror_mode": {
    "name": "ipython",
    "version": 3
   },
   "file_extension": ".py",
   "mimetype": "text/x-python",
   "name": "python",
   "nbconvert_exporter": "python",
   "pygments_lexer": "ipython3",
   "version": "3.13.3"
  }
 },
 "nbformat": 4,
 "nbformat_minor": 5
}
