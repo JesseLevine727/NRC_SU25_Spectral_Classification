{
 "cells": [
  {
   "cell_type": "code",
   "execution_count": 1,
   "id": "6d50ce3d",
   "metadata": {},
   "outputs": [],
   "source": [
    "import pandas as pd\n",
    "import  numpy as np"
   ]
  },
  {
   "cell_type": "code",
   "execution_count": 2,
   "id": "30582d58",
   "metadata": {},
   "outputs": [],
   "source": [
    "lam, p, niter = 1e4, 0.01, 10\n",
    "def baseline_als(y):\n",
    "    L = len(y)\n",
    "    D = np.diff(np.eye(L), 2)\n",
    "    D = lam * D.dot(D.T)\n",
    "    w = np.ones(L)\n",
    "    for _ in range(niter):\n",
    "        b = np.linalg.solve(np.diag(w) + D, w * y)\n",
    "        w = p * (y > b) + (1 - p) * (y < b)\n",
    "    return b\n",
    "\n",
    "def preprocess(arr):\n",
    "    out = np.zeros_like(arr)\n",
    "    for i, s in enumerate(arr):\n",
    "        b = baseline_als(s)\n",
    "        c = s - b\n",
    "        norm = np.linalg.norm(c)\n",
    "        out[i] = c / norm if norm > 0 else c\n",
    "    return out"
   ]
  },
  {
   "cell_type": "code",
   "execution_count": 3,
   "id": "63885f59",
   "metadata": {},
   "outputs": [],
   "source": [
    "df = pd.read_csv('reference_v2.csv')\n",
    "labels = df['Label'].values\n",
    "raw_specs = df.drop(columns=['Label']).values.astype(float)"
   ]
  },
  {
   "cell_type": "code",
   "execution_count": 4,
   "id": "b843481a",
   "metadata": {},
   "outputs": [],
   "source": [
    "spectra = preprocess(raw_specs)"
   ]
  }
 ],
 "metadata": {
  "kernelspec": {
   "display_name": "Python 3",
   "language": "python",
   "name": "python3"
  },
  "language_info": {
   "codemirror_mode": {
    "name": "ipython",
    "version": 3
   },
   "file_extension": ".py",
   "mimetype": "text/x-python",
   "name": "python",
   "nbconvert_exporter": "python",
   "pygments_lexer": "ipython3",
   "version": "3.13.3"
  }
 },
 "nbformat": 4,
 "nbformat_minor": 5
}
