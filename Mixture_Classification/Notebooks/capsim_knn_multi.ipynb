{
 "cells": [
  {
   "cell_type": "code",
   "execution_count": 1,
   "id": "b0e97ac0",
   "metadata": {},
   "outputs": [],
   "source": [
    "import pandas as pd\n",
    "import numpy as np\n",
    "from scipy.signal import find_peaks\n",
    "from sklearn.preprocessing import MultiLabelBinarizer, minmax_scale\n",
    "from sklearn.neighbors import KNeighborsClassifier\n",
    "from sklearn.metrics import accuracy_score, f1_score, classification_report\n",
    "from sklearn.model_selection import train_test_split"
   ]
  },
  {
   "cell_type": "code",
   "execution_count": 2,
   "id": "8eef4986",
   "metadata": {},
   "outputs": [],
   "source": [
    "# ----- Preprocessing & Helpers -----\n",
    "def baseline_AsLS(y, lam=1e4, p=0.01, niter=10):\n",
    "    L = len(y)\n",
    "    D = np.diff(np.eye(L), 2)\n",
    "    D = lam * D.dot(D.T)\n",
    "    w = np.ones(L)\n",
    "    for _ in range(niter):\n",
    "        b = np.linalg.solve(np.diag(w) + D, w * y)\n",
    "        w = p * (y > b) + (1 - p) * (y < b)\n",
    "    return b\n",
    "\n",
    "def preprocess(arr, lam=1e4, p=0.01, niter=10):\n",
    "    out = np.zeros_like(arr)\n",
    "    for i, spec in enumerate(arr):\n",
    "        bkg = baseline_AsLS(spec, lam=lam, p=p, niter=niter)\n",
    "        corr = spec - bkg\n",
    "        nrm = np.linalg.norm(corr)\n",
    "        normed = corr / nrm if nrm else corr\n",
    "        normed = np.abs(normed)\n",
    "        out[i] = normed\n",
    "    return out\n",
    "\n",
    "def smooth(spec, K_smooth=3):\n",
    "    kernel = np.ones(K_smooth) / K_smooth\n",
    "    return np.convolve(spec, kernel, mode='same')\n",
    "\n",
    "def extract_wavenumber_cols(df):\n",
    "    return [col for col in df.columns if col.replace('.', '', 1).isdigit()]\n",
    "\n",
    "# ----- Main CaPSim + kNN Function -----\n",
    "def identify_multilabel_knn(query_df, ref_df,\n",
    "    crop_max=1700, lam=1e4, p=0.01, niter=10,\n",
    "    K_smooth=3, N_peak=12, w_max=15,\n",
    "    height=0.01, prominence=0.01,\n",
    "    n_neighbors=3):\n",
    "\n",
    "    wav_cols = extract_wavenumber_cols(query_df)\n",
    "    wavs = np.array(wav_cols, dtype=float)\n",
    "    keep_cols = [col for col, w in zip(wav_cols, wavs) if w < crop_max]\n",
    "\n",
    "    Q_raw = query_df[keep_cols].values.astype(float)\n",
    "    R_raw = ref_df[keep_cols].values.astype(float)\n",
    "\n",
    "    # Build multilabel targets\n",
    "    ref_labels = list(zip(ref_df['Label 1'], ref_df['Label 2']))\n",
    "    query_labels = list(zip(query_df['Label 1'], query_df['Label 2']))\n",
    "    mlb = MultiLabelBinarizer()\n",
    "    y = mlb.fit_transform(ref_labels)\n",
    "\n",
    "    # Preprocess spectra\n",
    "    Q = preprocess(Q_raw)\n",
    "    R = preprocess(R_raw, lam, p, niter)\n",
    "\n",
    "    # Characteristic Peaks\n",
    "    CPs = {}\n",
    "    for i, class_name in enumerate(mlb.classes_):\n",
    "        specs = R[y[:, i] == 1]\n",
    "        counts = np.zeros(Q.shape[1], int)\n",
    "        for s in specs:\n",
    "            pks, _ = find_peaks(smooth(s, K_smooth), height=height, prominence=prominence)\n",
    "            counts[pks] += 1\n",
    "        CPs[class_name] = sorted(np.argsort(counts)[-N_peak:])\n",
    "\n",
    "    global_cp = sorted({i for idxs in CPs.values() for i in idxs})\n",
    "\n",
    "    # Reference feature matrix\n",
    "    X = []\n",
    "    for s in R:\n",
    "        vec = [np.max(s[max(0, i - w_max//2):i + w_max//2 + 1]) for i in global_cp]\n",
    "        X.append(minmax_scale(vec))\n",
    "    X = np.array(X)\n",
    "\n",
    "    # Train kNN\n",
    "    knn = KNeighborsClassifier(n_neighbors=n_neighbors, metric='cosine')\n",
    "    knn.fit(X, y)\n",
    "\n",
    "    # Query feature matrix\n",
    "    Q_feat = np.vstack([\n",
    "        minmax_scale([np.max(s[max(0, i - w_max//2):i + w_max//2 + 1]) for i in global_cp])\n",
    "        for s in Q\n",
    "    ])\n",
    "    y_pred = knn.predict(Q_feat)\n",
    "    y_true = mlb.transform(query_labels)\n",
    "\n",
    "    return y_true, y_pred, mlb\n"
   ]
  },
  {
   "cell_type": "code",
   "execution_count": null,
   "id": "f325a3da",
   "metadata": {},
   "outputs": [],
   "source": [
    "ref_df_full = pd.read_csv(\"mixtures_dataset.csv\")\n",
    "query_df = pd.read_csv(\"query_only_mixed.csv\")\n",
    "ref_train, ref_test = train_test_split(ref_df_full, test_size=0.5, stratify=ref_df_full[['Label 1', 'Label 2']], random_state=42)"
   ]
  },
  {
   "cell_type": "code",
   "execution_count": 6,
   "id": "e8f76a5b",
   "metadata": {},
   "outputs": [
    {
     "name": "stdout",
     "output_type": "stream",
     "text": [
      "---- Test Set Evaluation ----\n",
      "                    Class  precision  recall  f1-score  support\n",
      "0         1-dodecanethiol        1.0     1.0       1.0    122.0\n",
      "1    6-mercapto-1-hexanol        1.0     1.0       1.0     54.0\n",
      "2                 benzene        1.0     1.0       1.0     97.0\n",
      "3            benzenethiol        1.0     1.0       1.0     36.0\n",
      "4                    etoh        1.0     1.0       1.0     60.0\n",
      "5                    meoh        1.0     1.0       1.0    121.0\n",
      "6   n,n-dimethylformamide        1.0     1.0       1.0     36.0\n",
      "7                pyridine        1.0     1.0       1.0     54.0\n",
      "8               micro avg        1.0     1.0       1.0    580.0\n",
      "9               macro avg        1.0     1.0       1.0    580.0\n",
      "10           weighted avg        1.0     1.0       1.0    580.0\n",
      "11            samples avg        1.0     1.0       1.0    580.0\n"
     ]
    }
   ],
   "source": [
    "# --- Test Set ---\n",
    "print(\"---- Test Set Evaluation ----\")\n",
    "y_true_test, y_pred_test, mlb_test = identify_multilabel_knn(ref_test, ref_train)\n",
    "report_test = classification_report(y_true_test, y_pred_test, target_names=mlb_test.classes_, zero_division=0, output_dict=True)\n",
    "print(pd.DataFrame(report_test).T.reset_index().rename(columns={'index': 'Class'}))"
   ]
  },
  {
   "cell_type": "code",
   "execution_count": 7,
   "id": "8a5d6309",
   "metadata": {},
   "outputs": [
    {
     "name": "stdout",
     "output_type": "stream",
     "text": [
      "\n",
      "---- Validation Set Evaluation ----\n",
      "                    Class  precision  recall  f1-score  support\n",
      "0         1-dodecanethiol        1.0     1.0       1.0      9.0\n",
      "1    6-mercapto-1-hexanol        1.0     1.0       1.0      3.0\n",
      "2                 benzene        1.0     1.0       1.0      5.0\n",
      "3            benzenethiol        1.0     1.0       1.0      2.0\n",
      "4                    etoh        1.0     1.0       1.0      3.0\n",
      "5                    meoh        1.0     1.0       1.0      9.0\n",
      "6   n,n-dimethylformamide        1.0     1.0       1.0      2.0\n",
      "7                pyridine        1.0     1.0       1.0      3.0\n",
      "8               micro avg        1.0     1.0       1.0     36.0\n",
      "9               macro avg        1.0     1.0       1.0     36.0\n",
      "10           weighted avg        1.0     1.0       1.0     36.0\n",
      "11            samples avg        1.0     1.0       1.0     36.0\n"
     ]
    }
   ],
   "source": [
    "# --- Validation Set ---\n",
    "print(\"\\n---- Validation Set Evaluation ----\")\n",
    "y_true_val, y_pred_val, mlb_val = identify_multilabel_knn(query_df, ref_train)\n",
    "report_val = classification_report(y_true_val, y_pred_val, target_names=mlb_val.classes_, zero_division=0, output_dict=True)\n",
    "print(pd.DataFrame(report_val).T.reset_index().rename(columns={'index': 'Class'}))"
   ]
  }
 ],
 "metadata": {
  "kernelspec": {
   "display_name": "Python 3",
   "language": "python",
   "name": "python3"
  },
  "language_info": {
   "codemirror_mode": {
    "name": "ipython",
    "version": 3
   },
   "file_extension": ".py",
   "mimetype": "text/x-python",
   "name": "python",
   "nbconvert_exporter": "python",
   "pygments_lexer": "ipython3",
   "version": "3.13.3"
  }
 },
 "nbformat": 4,
 "nbformat_minor": 5
}
