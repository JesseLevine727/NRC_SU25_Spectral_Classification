{
 "cells": [
  {
   "cell_type": "code",
   "execution_count": 1,
   "id": "b0e97ac0",
   "metadata": {},
   "outputs": [],
   "source": [
    "import pandas as pd\n",
    "import numpy as np\n",
    "from scipy.signal import find_peaks\n",
    "from sklearn.preprocessing import MultiLabelBinarizer, minmax_scale\n",
    "from sklearn.neighbors import KNeighborsClassifier\n",
    "from sklearn.metrics import accuracy_score, f1_score, classification_report"
   ]
  },
  {
   "cell_type": "code",
   "execution_count": 2,
   "id": "8eef4986",
   "metadata": {},
   "outputs": [],
   "source": [
    "def baseline_AsLS(y, lam=1e4, p=0.01, niter=10):\n",
    "    L = len(y)\n",
    "    D = np.diff(np.eye(L), 2)\n",
    "    D = lam * D.dot(D.T)\n",
    "    w = np.ones(L)\n",
    "    for _ in range(niter):\n",
    "        b = np.linalg.solve(np.diag(w) + D, w * y)\n",
    "        w = p * (y > b) + (1 - p) * (y < b)\n",
    "    return b\n",
    "\n",
    "def preprocess(arr, lam=1e4, p=0.01, niter=10):\n",
    "    out = np.zeros_like(arr)\n",
    "    for i, spec in enumerate(arr):\n",
    "        bkg = baseline_AsLS(spec,lam=lam, p=p, niter=niter)\n",
    "        corr = spec - bkg\n",
    "        nrm = np.linalg.norm(corr)\n",
    "        normed = corr / nrm if nrm else corr\n",
    "        normed = np.abs(normed)  #Make all values positive, element-wise\n",
    "        out[i] = normed\n",
    "    return out\n",
    "\n",
    "def smooth(spec, K_smooth=3):\n",
    "    kernel = np.ones(K_smooth) / K_smooth\n",
    "    return np.convolve(spec, kernel, mode='same')\n",
    "\n",
    "# Extract valid wavenumber columns\n",
    "def extract_wavenumber_cols(df):\n",
    "    return [col for col in df.columns if col.replace('.', '', 1).isdigit()]\n",
    "\n",
    "# Identify with CaPSim + kNN multilabel\n",
    "def identify_multilabel_knn(query_df, ref_df,\n",
    "    crop_max=1700, lam=1e4, p=0.01, niter=10,\n",
    "    K_smooth=3, N_peak=12, w_max=15,\n",
    "    height=0.01, prominence=0.01,\n",
    "    n_neighbors=3):\n",
    "\n",
    "    wav_cols = extract_wavenumber_cols(query_df)\n",
    "    wavs = np.array(wav_cols, dtype=float)\n",
    "    keep_cols = [col for col, w in zip(wav_cols, wavs) if w < crop_max]\n",
    "\n",
    "    Q_raw = query_df[keep_cols].values.astype(float)\n",
    "    R_raw = ref_df[keep_cols].values.astype(float)\n",
    "\n",
    "    # Build multilabel targets\n",
    "    ref_labels = list(zip(ref_df['Label 1'], ref_df['Label 2']))\n",
    "    query_labels = list(zip(query_df['Label 1'], query_df['Label 2']))\n",
    "    mlb = MultiLabelBinarizer()\n",
    "    y = mlb.fit_transform(ref_labels)\n",
    "\n",
    "    # Preprocess\n",
    "    Q = preprocess(Q_raw)\n",
    "    R = preprocess(R_raw, lam, p, niter)\n",
    "\n",
    "    # CP detection\n",
    "    CPs = {}\n",
    "    for i, class_name in enumerate(mlb.classes_):\n",
    "        specs = R[y[:, i] == 1]\n",
    "        counts = np.zeros(Q.shape[1], int)\n",
    "        for s in specs:\n",
    "            pks, _ = find_peaks(smooth(s, K_smooth), height=height, prominence=prominence)\n",
    "            counts[pks] += 1\n",
    "        CPs[class_name] = sorted(np.argsort(counts)[-N_peak:])\n",
    "\n",
    "    global_cp = sorted({i for idxs in CPs.values() for i in idxs})\n",
    "\n",
    "    # Reference feature matrix\n",
    "    X = []\n",
    "    for s in R:\n",
    "        vec = [np.max(s[max(0, i - w_max//2):i + w_max//2 + 1]) for i in global_cp]\n",
    "        X.append(minmax_scale(vec))\n",
    "    X = np.array(X)\n",
    "\n",
    "    # Train multilabel kNN\n",
    "    knn = KNeighborsClassifier(n_neighbors=n_neighbors, metric='cosine')\n",
    "    knn.fit(X, y)\n",
    "\n",
    "    # Query feature matrix\n",
    "    Q_feat = np.vstack([\n",
    "        minmax_scale([np.max(s[max(0, i - w_max//2):i + w_max//2 + 1]) for i in global_cp])\n",
    "        for s in Q\n",
    "    ])\n",
    "    y_pred = knn.predict(Q_feat)\n",
    "    y_true = mlb.transform(query_labels)\n",
    "\n",
    "    return y_true, y_pred, mlb"
   ]
  },
  {
   "cell_type": "code",
   "execution_count": 3,
   "id": "84569b25",
   "metadata": {},
   "outputs": [],
   "source": [
    "ref_df = pd.read_csv(\"mixtures_dataset.csv\")\n",
    "query_df = pd.read_csv(\"query_only_mixed.csv\")\n"
   ]
  },
  {
   "cell_type": "code",
   "execution_count": 4,
   "id": "f7c67114",
   "metadata": {},
   "outputs": [],
   "source": [
    "y_true, y_pred, mlb = identify_multilabel_knn(query_df, ref_df)\n",
    "\n",
    "# Convert to DataFrame for user inspection\n",
    "results_df = pd.DataFrame({\n",
    "    'True Labels': [\", \".join(mlb.classes_[row.astype(bool)]) for row in y_true],\n",
    "    'Predicted Labels': [\", \".join(mlb.classes_[row.astype(bool)]) for row in y_pred]\n",
    "})"
   ]
  },
  {
   "cell_type": "code",
   "execution_count": 5,
   "id": "ad9eadbd",
   "metadata": {},
   "outputs": [
    {
     "data": {
      "application/vnd.microsoft.datawrangler.viewer.v0+json": {
       "columns": [
        {
         "name": "index",
         "rawType": "int64",
         "type": "integer"
        },
        {
         "name": "True Labels",
         "rawType": "object",
         "type": "string"
        },
        {
         "name": "Predicted Labels",
         "rawType": "object",
         "type": "string"
        }
       ],
       "ref": "79f90bde-9821-421d-a80b-e7ab77a18a42",
       "rows": [
        [
         "0",
         "6-mercapto-1-hexanol, benzene",
         "6-mercapto-1-hexanol, benzene"
        ],
        [
         "1",
         "6-mercapto-1-hexanol, pyridine",
         "6-mercapto-1-hexanol, pyridine"
        ],
        [
         "2",
         "benzene, benzenethiol",
         "benzene, benzenethiol"
        ],
        [
         "3",
         "benzene, etoh",
         "benzene, etoh"
        ],
        [
         "4",
         "benzene, meoh",
         "benzene, meoh"
        ],
        [
         "5",
         "1-dodecanethiol, etoh",
         "1-dodecanethiol, etoh"
        ],
        [
         "6",
         "etoh, meoh",
         "etoh, meoh"
        ],
        [
         "7",
         "1-dodecanethiol, meoh",
         "1-dodecanethiol, meoh"
        ],
        [
         "8",
         "1-dodecanethiol, meoh",
         "1-dodecanethiol, meoh"
        ],
        [
         "9",
         "1-dodecanethiol, meoh",
         "1-dodecanethiol, meoh"
        ],
        [
         "10",
         "1-dodecanethiol, meoh",
         "1-dodecanethiol, meoh"
        ],
        [
         "11",
         "1-dodecanethiol, meoh",
         "1-dodecanethiol, meoh"
        ],
        [
         "12",
         "1-dodecanethiol, meoh",
         "1-dodecanethiol, meoh"
        ],
        [
         "13",
         "1-dodecanethiol, meoh",
         "1-dodecanethiol, meoh"
        ],
        [
         "14",
         "6-mercapto-1-hexanol, n,n-dimethylformamide",
         "6-mercapto-1-hexanol, n,n-dimethylformamide"
        ],
        [
         "15",
         "n,n-dimethylformamide, pyridine",
         "n,n-dimethylformamide, pyridine"
        ],
        [
         "16",
         "benzenethiol, pyridine",
         "benzenethiol, pyridine"
        ],
        [
         "17",
         "1-dodecanethiol, benzene",
         "1-dodecanethiol, benzene"
        ]
       ],
       "shape": {
        "columns": 2,
        "rows": 18
       }
      },
      "text/html": [
       "<div>\n",
       "<style scoped>\n",
       "    .dataframe tbody tr th:only-of-type {\n",
       "        vertical-align: middle;\n",
       "    }\n",
       "\n",
       "    .dataframe tbody tr th {\n",
       "        vertical-align: top;\n",
       "    }\n",
       "\n",
       "    .dataframe thead th {\n",
       "        text-align: right;\n",
       "    }\n",
       "</style>\n",
       "<table border=\"1\" class=\"dataframe\">\n",
       "  <thead>\n",
       "    <tr style=\"text-align: right;\">\n",
       "      <th></th>\n",
       "      <th>True Labels</th>\n",
       "      <th>Predicted Labels</th>\n",
       "    </tr>\n",
       "  </thead>\n",
       "  <tbody>\n",
       "    <tr>\n",
       "      <th>0</th>\n",
       "      <td>6-mercapto-1-hexanol, benzene</td>\n",
       "      <td>6-mercapto-1-hexanol, benzene</td>\n",
       "    </tr>\n",
       "    <tr>\n",
       "      <th>1</th>\n",
       "      <td>6-mercapto-1-hexanol, pyridine</td>\n",
       "      <td>6-mercapto-1-hexanol, pyridine</td>\n",
       "    </tr>\n",
       "    <tr>\n",
       "      <th>2</th>\n",
       "      <td>benzene, benzenethiol</td>\n",
       "      <td>benzene, benzenethiol</td>\n",
       "    </tr>\n",
       "    <tr>\n",
       "      <th>3</th>\n",
       "      <td>benzene, etoh</td>\n",
       "      <td>benzene, etoh</td>\n",
       "    </tr>\n",
       "    <tr>\n",
       "      <th>4</th>\n",
       "      <td>benzene, meoh</td>\n",
       "      <td>benzene, meoh</td>\n",
       "    </tr>\n",
       "    <tr>\n",
       "      <th>5</th>\n",
       "      <td>1-dodecanethiol, etoh</td>\n",
       "      <td>1-dodecanethiol, etoh</td>\n",
       "    </tr>\n",
       "    <tr>\n",
       "      <th>6</th>\n",
       "      <td>etoh, meoh</td>\n",
       "      <td>etoh, meoh</td>\n",
       "    </tr>\n",
       "    <tr>\n",
       "      <th>7</th>\n",
       "      <td>1-dodecanethiol, meoh</td>\n",
       "      <td>1-dodecanethiol, meoh</td>\n",
       "    </tr>\n",
       "    <tr>\n",
       "      <th>8</th>\n",
       "      <td>1-dodecanethiol, meoh</td>\n",
       "      <td>1-dodecanethiol, meoh</td>\n",
       "    </tr>\n",
       "    <tr>\n",
       "      <th>9</th>\n",
       "      <td>1-dodecanethiol, meoh</td>\n",
       "      <td>1-dodecanethiol, meoh</td>\n",
       "    </tr>\n",
       "    <tr>\n",
       "      <th>10</th>\n",
       "      <td>1-dodecanethiol, meoh</td>\n",
       "      <td>1-dodecanethiol, meoh</td>\n",
       "    </tr>\n",
       "    <tr>\n",
       "      <th>11</th>\n",
       "      <td>1-dodecanethiol, meoh</td>\n",
       "      <td>1-dodecanethiol, meoh</td>\n",
       "    </tr>\n",
       "    <tr>\n",
       "      <th>12</th>\n",
       "      <td>1-dodecanethiol, meoh</td>\n",
       "      <td>1-dodecanethiol, meoh</td>\n",
       "    </tr>\n",
       "    <tr>\n",
       "      <th>13</th>\n",
       "      <td>1-dodecanethiol, meoh</td>\n",
       "      <td>1-dodecanethiol, meoh</td>\n",
       "    </tr>\n",
       "    <tr>\n",
       "      <th>14</th>\n",
       "      <td>6-mercapto-1-hexanol, n,n-dimethylformamide</td>\n",
       "      <td>6-mercapto-1-hexanol, n,n-dimethylformamide</td>\n",
       "    </tr>\n",
       "    <tr>\n",
       "      <th>15</th>\n",
       "      <td>n,n-dimethylformamide, pyridine</td>\n",
       "      <td>n,n-dimethylformamide, pyridine</td>\n",
       "    </tr>\n",
       "    <tr>\n",
       "      <th>16</th>\n",
       "      <td>benzenethiol, pyridine</td>\n",
       "      <td>benzenethiol, pyridine</td>\n",
       "    </tr>\n",
       "    <tr>\n",
       "      <th>17</th>\n",
       "      <td>1-dodecanethiol, benzene</td>\n",
       "      <td>1-dodecanethiol, benzene</td>\n",
       "    </tr>\n",
       "  </tbody>\n",
       "</table>\n",
       "</div>"
      ],
      "text/plain": [
       "                                    True Labels  \\\n",
       "0                 6-mercapto-1-hexanol, benzene   \n",
       "1                6-mercapto-1-hexanol, pyridine   \n",
       "2                         benzene, benzenethiol   \n",
       "3                                 benzene, etoh   \n",
       "4                                 benzene, meoh   \n",
       "5                         1-dodecanethiol, etoh   \n",
       "6                                    etoh, meoh   \n",
       "7                         1-dodecanethiol, meoh   \n",
       "8                         1-dodecanethiol, meoh   \n",
       "9                         1-dodecanethiol, meoh   \n",
       "10                        1-dodecanethiol, meoh   \n",
       "11                        1-dodecanethiol, meoh   \n",
       "12                        1-dodecanethiol, meoh   \n",
       "13                        1-dodecanethiol, meoh   \n",
       "14  6-mercapto-1-hexanol, n,n-dimethylformamide   \n",
       "15              n,n-dimethylformamide, pyridine   \n",
       "16                       benzenethiol, pyridine   \n",
       "17                     1-dodecanethiol, benzene   \n",
       "\n",
       "                               Predicted Labels  \n",
       "0                 6-mercapto-1-hexanol, benzene  \n",
       "1                6-mercapto-1-hexanol, pyridine  \n",
       "2                         benzene, benzenethiol  \n",
       "3                                 benzene, etoh  \n",
       "4                                 benzene, meoh  \n",
       "5                         1-dodecanethiol, etoh  \n",
       "6                                    etoh, meoh  \n",
       "7                         1-dodecanethiol, meoh  \n",
       "8                         1-dodecanethiol, meoh  \n",
       "9                         1-dodecanethiol, meoh  \n",
       "10                        1-dodecanethiol, meoh  \n",
       "11                        1-dodecanethiol, meoh  \n",
       "12                        1-dodecanethiol, meoh  \n",
       "13                        1-dodecanethiol, meoh  \n",
       "14  6-mercapto-1-hexanol, n,n-dimethylformamide  \n",
       "15              n,n-dimethylformamide, pyridine  \n",
       "16                       benzenethiol, pyridine  \n",
       "17                     1-dodecanethiol, benzene  "
      ]
     },
     "metadata": {},
     "output_type": "display_data"
    }
   ],
   "source": [
    "from IPython.display import display\n",
    "display(results_df)\n",
    "\n"
   ]
  },
  {
   "cell_type": "code",
   "execution_count": 6,
   "id": "3f4e57f0",
   "metadata": {},
   "outputs": [
    {
     "data": {
      "application/vnd.microsoft.datawrangler.viewer.v0+json": {
       "columns": [
        {
         "name": "index",
         "rawType": "int64",
         "type": "integer"
        },
        {
         "name": "Class",
         "rawType": "object",
         "type": "string"
        },
        {
         "name": "precision",
         "rawType": "float64",
         "type": "float"
        },
        {
         "name": "recall",
         "rawType": "float64",
         "type": "float"
        },
        {
         "name": "f1-score",
         "rawType": "float64",
         "type": "float"
        },
        {
         "name": "support",
         "rawType": "float64",
         "type": "float"
        }
       ],
       "ref": "d7a91046-785a-4156-95c4-a989d542e82b",
       "rows": [
        [
         "0",
         "1-dodecanethiol",
         "1.0",
         "1.0",
         "1.0",
         "9.0"
        ],
        [
         "1",
         "6-mercapto-1-hexanol",
         "1.0",
         "1.0",
         "1.0",
         "3.0"
        ],
        [
         "2",
         "benzene",
         "1.0",
         "1.0",
         "1.0",
         "5.0"
        ],
        [
         "3",
         "benzenethiol",
         "1.0",
         "1.0",
         "1.0",
         "2.0"
        ],
        [
         "4",
         "etoh",
         "1.0",
         "1.0",
         "1.0",
         "3.0"
        ],
        [
         "5",
         "meoh",
         "1.0",
         "1.0",
         "1.0",
         "9.0"
        ],
        [
         "6",
         "n,n-dimethylformamide",
         "1.0",
         "1.0",
         "1.0",
         "2.0"
        ],
        [
         "7",
         "pyridine",
         "1.0",
         "1.0",
         "1.0",
         "3.0"
        ],
        [
         "8",
         "micro avg",
         "1.0",
         "1.0",
         "1.0",
         "36.0"
        ],
        [
         "9",
         "macro avg",
         "1.0",
         "1.0",
         "1.0",
         "36.0"
        ],
        [
         "10",
         "weighted avg",
         "1.0",
         "1.0",
         "1.0",
         "36.0"
        ],
        [
         "11",
         "samples avg",
         "1.0",
         "1.0",
         "1.0",
         "36.0"
        ]
       ],
       "shape": {
        "columns": 5,
        "rows": 12
       }
      },
      "text/html": [
       "<div>\n",
       "<style scoped>\n",
       "    .dataframe tbody tr th:only-of-type {\n",
       "        vertical-align: middle;\n",
       "    }\n",
       "\n",
       "    .dataframe tbody tr th {\n",
       "        vertical-align: top;\n",
       "    }\n",
       "\n",
       "    .dataframe thead th {\n",
       "        text-align: right;\n",
       "    }\n",
       "</style>\n",
       "<table border=\"1\" class=\"dataframe\">\n",
       "  <thead>\n",
       "    <tr style=\"text-align: right;\">\n",
       "      <th></th>\n",
       "      <th>Class</th>\n",
       "      <th>precision</th>\n",
       "      <th>recall</th>\n",
       "      <th>f1-score</th>\n",
       "      <th>support</th>\n",
       "    </tr>\n",
       "  </thead>\n",
       "  <tbody>\n",
       "    <tr>\n",
       "      <th>0</th>\n",
       "      <td>1-dodecanethiol</td>\n",
       "      <td>1.0</td>\n",
       "      <td>1.0</td>\n",
       "      <td>1.0</td>\n",
       "      <td>9.0</td>\n",
       "    </tr>\n",
       "    <tr>\n",
       "      <th>1</th>\n",
       "      <td>6-mercapto-1-hexanol</td>\n",
       "      <td>1.0</td>\n",
       "      <td>1.0</td>\n",
       "      <td>1.0</td>\n",
       "      <td>3.0</td>\n",
       "    </tr>\n",
       "    <tr>\n",
       "      <th>2</th>\n",
       "      <td>benzene</td>\n",
       "      <td>1.0</td>\n",
       "      <td>1.0</td>\n",
       "      <td>1.0</td>\n",
       "      <td>5.0</td>\n",
       "    </tr>\n",
       "    <tr>\n",
       "      <th>3</th>\n",
       "      <td>benzenethiol</td>\n",
       "      <td>1.0</td>\n",
       "      <td>1.0</td>\n",
       "      <td>1.0</td>\n",
       "      <td>2.0</td>\n",
       "    </tr>\n",
       "    <tr>\n",
       "      <th>4</th>\n",
       "      <td>etoh</td>\n",
       "      <td>1.0</td>\n",
       "      <td>1.0</td>\n",
       "      <td>1.0</td>\n",
       "      <td>3.0</td>\n",
       "    </tr>\n",
       "    <tr>\n",
       "      <th>5</th>\n",
       "      <td>meoh</td>\n",
       "      <td>1.0</td>\n",
       "      <td>1.0</td>\n",
       "      <td>1.0</td>\n",
       "      <td>9.0</td>\n",
       "    </tr>\n",
       "    <tr>\n",
       "      <th>6</th>\n",
       "      <td>n,n-dimethylformamide</td>\n",
       "      <td>1.0</td>\n",
       "      <td>1.0</td>\n",
       "      <td>1.0</td>\n",
       "      <td>2.0</td>\n",
       "    </tr>\n",
       "    <tr>\n",
       "      <th>7</th>\n",
       "      <td>pyridine</td>\n",
       "      <td>1.0</td>\n",
       "      <td>1.0</td>\n",
       "      <td>1.0</td>\n",
       "      <td>3.0</td>\n",
       "    </tr>\n",
       "    <tr>\n",
       "      <th>8</th>\n",
       "      <td>micro avg</td>\n",
       "      <td>1.0</td>\n",
       "      <td>1.0</td>\n",
       "      <td>1.0</td>\n",
       "      <td>36.0</td>\n",
       "    </tr>\n",
       "    <tr>\n",
       "      <th>9</th>\n",
       "      <td>macro avg</td>\n",
       "      <td>1.0</td>\n",
       "      <td>1.0</td>\n",
       "      <td>1.0</td>\n",
       "      <td>36.0</td>\n",
       "    </tr>\n",
       "    <tr>\n",
       "      <th>10</th>\n",
       "      <td>weighted avg</td>\n",
       "      <td>1.0</td>\n",
       "      <td>1.0</td>\n",
       "      <td>1.0</td>\n",
       "      <td>36.0</td>\n",
       "    </tr>\n",
       "    <tr>\n",
       "      <th>11</th>\n",
       "      <td>samples avg</td>\n",
       "      <td>1.0</td>\n",
       "      <td>1.0</td>\n",
       "      <td>1.0</td>\n",
       "      <td>36.0</td>\n",
       "    </tr>\n",
       "  </tbody>\n",
       "</table>\n",
       "</div>"
      ],
      "text/plain": [
       "                    Class  precision  recall  f1-score  support\n",
       "0         1-dodecanethiol        1.0     1.0       1.0      9.0\n",
       "1    6-mercapto-1-hexanol        1.0     1.0       1.0      3.0\n",
       "2                 benzene        1.0     1.0       1.0      5.0\n",
       "3            benzenethiol        1.0     1.0       1.0      2.0\n",
       "4                    etoh        1.0     1.0       1.0      3.0\n",
       "5                    meoh        1.0     1.0       1.0      9.0\n",
       "6   n,n-dimethylformamide        1.0     1.0       1.0      2.0\n",
       "7                pyridine        1.0     1.0       1.0      3.0\n",
       "8               micro avg        1.0     1.0       1.0     36.0\n",
       "9               macro avg        1.0     1.0       1.0     36.0\n",
       "10           weighted avg        1.0     1.0       1.0     36.0\n",
       "11            samples avg        1.0     1.0       1.0     36.0"
      ]
     },
     "execution_count": 6,
     "metadata": {},
     "output_type": "execute_result"
    }
   ],
   "source": [
    "report = classification_report(y_true, y_pred, target_names=mlb.classes_, zero_division=0, output_dict=True)\n",
    "pd.DataFrame(report).T.reset_index().rename(columns={'index': 'Class'})"
   ]
  }
 ],
 "metadata": {
  "kernelspec": {
   "display_name": "Python 3",
   "language": "python",
   "name": "python3"
  },
  "language_info": {
   "codemirror_mode": {
    "name": "ipython",
    "version": 3
   },
   "file_extension": ".py",
   "mimetype": "text/x-python",
   "name": "python",
   "nbconvert_exporter": "python",
   "pygments_lexer": "ipython3",
   "version": "3.13.3"
  }
 },
 "nbformat": 4,
 "nbformat_minor": 5
}
