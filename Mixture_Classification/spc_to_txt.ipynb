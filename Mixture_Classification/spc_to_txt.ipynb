{
 "cells": [
  {
   "cell_type": "code",
   "execution_count": 18,
   "id": "a07536eb",
   "metadata": {},
   "outputs": [],
   "source": [
    "import spc\n",
    "import numpy as np\n",
    "import os"
   ]
  },
  {
   "cell_type": "code",
   "execution_count": 25,
   "id": "070aceae",
   "metadata": {},
   "outputs": [
    {
     "name": "stdout",
     "output_type": "stream",
     "text": [
      "Looking in: Jesse_Dataset_v2\\SERS\\Benzenethiol\\pSERS\n",
      "Files found:\n",
      " - S02-Ag-psers-BT-avg.spc\n",
      " - S02-Ag-psers-BT-R1.spc\n",
      " - S02-Ag-psers-BT-R2.spc\n",
      " - S02-Ag-psers-BT-R3.spc\n",
      " - S02-Ag-psers-BT-R4.spc\n",
      " - S02-Ag-psers-BT-R5.spc\n",
      "gx-y(1)\n",
      "Converted: S02-Ag-psers-BT-avg.spc → S02-Ag-psers-BT-avg.txt\n",
      "gx-y(1)\n",
      "Converted: S02-Ag-psers-BT-R1.spc → S02-Ag-psers-BT-R1.txt\n",
      "gx-y(1)\n",
      "Converted: S02-Ag-psers-BT-R2.spc → S02-Ag-psers-BT-R2.txt\n",
      "gx-y(1)\n",
      "Converted: S02-Ag-psers-BT-R3.spc → S02-Ag-psers-BT-R3.txt\n",
      "gx-y(1)\n",
      "Converted: S02-Ag-psers-BT-R4.spc → S02-Ag-psers-BT-R4.txt\n",
      "gx-y(1)\n",
      "Converted: S02-Ag-psers-BT-R5.spc → S02-Ag-psers-BT-R5.txt\n"
     ]
    }
   ],
   "source": [
    "src_dir = r'Jesse_Dataset_v2\\SERS\\Benzenethiol\\pSERS'\n",
    "dst_dir = r'SERS_txt'\n",
    "\n",
    "# Create the destination directory if it doesn't exist\n",
    "os.makedirs(dst_dir, exist_ok=True)\n",
    "\n",
    "# Debug: print found files\n",
    "print(\"Looking in:\", src_dir)\n",
    "print(\"Files found:\")\n",
    "for filename in os.listdir(src_dir):\n",
    "    print(\" -\", filename)\n",
    "\n",
    "# Iterate over .spc files\n",
    "for filename in os.listdir(src_dir):\n",
    "    if filename.lower().endswith('.spc'):\n",
    "        spc_path = os.path.join(src_dir, filename)\n",
    "        txt_filename = os.path.splitext(filename)[0] + '.txt'\n",
    "        txt_path = os.path.join(dst_dir, txt_filename)\n",
    "\n",
    "        try:\n",
    "            file = spc.File(spc_path)\n",
    "            file.write_file(txt_path)\n",
    "            print(f\"Converted: {filename} → {txt_filename}\")\n",
    "        except Exception as e:\n",
    "            print(f\"Failed to convert {filename}: {e}\")"
   ]
  },
  {
   "cell_type": "code",
   "execution_count": null,
   "id": "36bcee29",
   "metadata": {},
   "outputs": [],
   "source": []
  }
 ],
 "metadata": {
  "kernelspec": {
   "display_name": "Python 3",
   "language": "python",
   "name": "python3"
  },
  "language_info": {
   "codemirror_mode": {
    "name": "ipython",
    "version": 3
   },
   "file_extension": ".py",
   "mimetype": "text/x-python",
   "name": "python",
   "nbconvert_exporter": "python",
   "pygments_lexer": "ipython3",
   "version": "3.13.3"
  }
 },
 "nbformat": 4,
 "nbformat_minor": 5
}
