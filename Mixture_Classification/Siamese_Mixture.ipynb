{
 "cells": [
  {
   "cell_type": "code",
   "execution_count": 1,
   "id": "6526d00c",
   "metadata": {},
   "outputs": [],
   "source": [
    "import pandas as pd\n",
    "import numpy as np\n",
    "import torch\n",
    "import torch.nn as nn\n",
    "import matplotlib.pyplot as plt\n",
    "from sklearn.decomposition import non_negative_factorization\n",
    "from SiameseNetwork import SiameseNetwork"
   ]
  },
  {
   "cell_type": "code",
   "execution_count": 3,
   "id": "0b83a038",
   "metadata": {},
   "outputs": [],
   "source": [
    "def baseline_AsLS(y, lam=1e4, p=0.01, niter=10):\n",
    "    L = len(y)\n",
    "    D = np.diff(np.eye(L), 2)\n",
    "    D = lam * D.dot(D.T)\n",
    "    w = np.ones(L)\n",
    "    for _ in range(niter):\n",
    "        b = np.linalg.solve(np.diag(w) + D, w * y)\n",
    "        w = p * (y > b) + (1 - p) * (y < b)\n",
    "    return b\n",
    "\n",
    "def preprocess(arr, lam=1e4, p=0.01, niter=10):\n",
    "    out = np.zeros_like(arr)\n",
    "    for i, spec in enumerate(arr):\n",
    "        bkg = baseline_AsLS(spec, lam=lam, p=p, niter=niter)\n",
    "        corr = spec - bkg\n",
    "        nrm = np.linalg.norm(corr)\n",
    "        normed = corr / nrm if nrm else corr\n",
    "        normed = np.abs(normed)\n",
    "        out[i] = normed\n",
    "    return out\n",
    "\n",
    "def minmax_normalize(arr):\n",
    "    min_val = np.min(arr)\n",
    "    max_val = np.max(arr)\n",
    "    return (arr - min_val) / (max_val - min_val + 1e-8)"
   ]
  },
  {
   "cell_type": "code",
   "execution_count": 5,
   "id": "3f76509e",
   "metadata": {},
   "outputs": [],
   "source": [
    "query_df = pd.read_csv(\"query_v2_multiples.csv\")\n",
    "feature_cols = [col for col in query_df.columns if col.replace('.', '', 1).isdigit()]\n",
    "labels = query_df[[\"Label 1\", \"Label 2\"]].values\n",
    "spectra = query_df[feature_cols].values.astype(float)\n",
    "spectra_proc = preprocess(spectra)"
   ]
  },
  {
   "cell_type": "code",
   "execution_count": 29,
   "id": "5e0223e4",
   "metadata": {},
   "outputs": [
    {
     "data": {
      "text/plain": [
       "SiameseNetwork(\n",
       "  (encoder): Sequential(\n",
       "    (0): Conv1d(1, 16, kernel_size=(7,), stride=(1,), padding=(3,))\n",
       "    (1): ReLU()\n",
       "    (2): MaxPool1d(kernel_size=2, stride=2, padding=0, dilation=1, ceil_mode=False)\n",
       "    (3): Conv1d(16, 32, kernel_size=(5,), stride=(1,), padding=(2,))\n",
       "    (4): ReLU()\n",
       "    (5): MaxPool1d(kernel_size=2, stride=2, padding=0, dilation=1, ceil_mode=False)\n",
       "    (6): Flatten(start_dim=1, end_dim=-1)\n",
       "    (7): Linear(in_features=8192, out_features=64, bias=True)\n",
       "    (8): ReLU()\n",
       "  )\n",
       ")"
      ]
     },
     "execution_count": 29,
     "metadata": {},
     "output_type": "execute_result"
    }
   ],
   "source": [
    "input_len = spectra_proc.shape[1]\n",
    "device = torch.device(\"cuda\" if torch.cuda.is_available() else \"cpu\")\n",
    "model = SiameseNetwork(input_len=input_len,embed_dim=64)\n",
    "model.load_state_dict(torch.load(\"siamese_raman.pth\", map_location=device))\n",
    "model.to(device)\n",
    "model.eval()"
   ]
  },
  {
   "cell_type": "code",
   "execution_count": 26,
   "id": "9bf5a7f2",
   "metadata": {},
   "outputs": [],
   "source": [
    "W_all, H_all, _ = non_negative_factorization(spectra_proc, n_components=2, init='random', random_state=0)\n",
    "\n",
    "# ---------- Normalize Components ----------\n",
    "H_norm = np.array([minmax_normalize(H_all[i]) for i in range(2)])  # shape: (2, n_features)\n",
    "\n",
    "# ---------- Load Reference Data ----------\n",
    "ref_df = pd.read_csv(\"reference_siamese.csv\")\n",
    "ref_labels = ref_df[\"Label\"].values\n",
    "ref_specs = ref_df.drop(columns=[\"Label\"]).values.astype(float)\n",
    "ref_proc = preprocess(ref_specs)\n",
    "\n",
    "# Get reference embeddings\n",
    "with torch.no_grad():\n",
    "    ref_input = torch.tensor(ref_proc, dtype=torch.float32).unsqueeze(1).to(device)\n",
    "    ref_embeddings = model(ref_input).cpu().numpy()\n",
    "\n",
    "# ---------- Classify Each Component ----------\n",
    "predictions = []\n",
    "for i in range(len(W_all)):  # For each query spectrum\n",
    "    pred_components = []\n",
    "    for j in range(2):  # Each component (H_all[0], H_all[1])\n",
    "        comp = H_all[j] * W_all[i, j]\n",
    "        comp_norm = minmax_normalize(comp)\n",
    "        comp_tensor = torch.tensor(comp_norm, dtype=torch.float32).unsqueeze(0).unsqueeze(0).to(device)\n",
    "        with torch.no_grad():\n",
    "            comp_embed = model(comp_tensor).cpu().numpy()\n",
    "        dists = np.linalg.norm(ref_embeddings - comp_embed, axis=1)\n",
    "        nearest_idx = np.argmin(dists)\n",
    "        pred_components.append(ref_labels[nearest_idx])\n",
    "    predictions.append(pred_components)\n"
   ]
  },
  {
   "cell_type": "code",
   "execution_count": 27,
   "id": "b75c23a7",
   "metadata": {},
   "outputs": [
    {
     "name": "stdout",
     "output_type": "stream",
     "text": [
      "Flexible Match Accuracy (Set Match): 8.33%\n",
      "\n",
      "Label 1 Accuracy: 25.00%\n",
      "Label 2 Accuracy: 16.67%\n"
     ]
    }
   ],
   "source": [
    "import numpy as np\n",
    "\n",
    "# Convert to NumPy arrays\n",
    "predictions = np.array(predictions)\n",
    "labels = np.array(labels)\n",
    "\n",
    "# Accuracy for label 1 (first component)\n",
    "acc_label1 = np.mean(predictions[:, 0] == labels[:, 0])\n",
    "# Accuracy for label 2 (second component)\n",
    "acc_label2 = np.mean(predictions[:, 1] == labels[:, 1])\n",
    "\n",
    "# Exact match accuracy (both labels match)\n",
    "acc_flexible = np.mean([\n",
    "    set(pred) == set(true)\n",
    "    for pred, true in zip(predictions, labels)\n",
    "])\n",
    "print(f\"Flexible Match Accuracy (Set Match): {acc_flexible:.2%}\")\n",
    "print(f\"\\nLabel 1 Accuracy: {acc_label1:.2%}\")\n",
    "print(f\"Label 2 Accuracy: {acc_label2:.2%}\")\n"
   ]
  }
 ],
 "metadata": {
  "kernelspec": {
   "display_name": "Python 3",
   "language": "python",
   "name": "python3"
  },
  "language_info": {
   "codemirror_mode": {
    "name": "ipython",
    "version": 3
   },
   "file_extension": ".py",
   "mimetype": "text/x-python",
   "name": "python",
   "nbconvert_exporter": "python",
   "pygments_lexer": "ipython3",
   "version": "3.13.3"
  }
 },
 "nbformat": 4,
 "nbformat_minor": 5
}
