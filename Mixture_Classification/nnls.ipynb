{
 "cells": [
  {
   "cell_type": "code",
   "execution_count": 8,
   "id": "062b48e4",
   "metadata": {},
   "outputs": [],
   "source": [
    "import pandas as pd\n",
    "import numpy as np\n",
    "from sklearn.preprocessing import normalize\n",
    "from scipy.optimize import nnls\n",
    "import itertools"
   ]
  },
  {
   "cell_type": "code",
   "execution_count": 9,
   "id": "8a3935fe",
   "metadata": {},
   "outputs": [],
   "source": [
    "ref_df = pd.read_csv(\"reference_siamese.csv\")\n",
    "query_df = pd.read_csv(\"query_only_mixed.csv\")\n",
    "\n",
    "# --- Extract Labels ---\n",
    "query_labels = query_df[[\"Label 1\", \"Label 2\"]].values\n",
    "query_df = query_df.drop(columns=[\"Label 1\", \"Label 2\"])"
   ]
  },
  {
   "cell_type": "code",
   "execution_count": 10,
   "id": "c284e7fc",
   "metadata": {},
   "outputs": [],
   "source": [
    "def baseline_AsLS(y, lam=1e4, p=0.01, niter=10):\n",
    "    L = len(y)\n",
    "    D = np.diff(np.eye(L), 2)\n",
    "    D = lam * D.dot(D.T)\n",
    "    w = np.ones(L)\n",
    "    for _ in range(niter):\n",
    "        b = np.linalg.solve(np.diag(w) + D, w * y)\n",
    "        w = p * (y > b) + (1 - p) * (y < b)\n",
    "    return b\n",
    "\n",
    "def preprocess(arr, lam=1e4, p=0.01, niter=10):\n",
    "    out = np.zeros_like(arr)\n",
    "    for i, spec in enumerate(arr):\n",
    "        bkg = baseline_AsLS(spec, lam=lam, p=p, niter=niter)\n",
    "        corr = spec - bkg\n",
    "        nrm = np.linalg.norm(corr)\n",
    "        normed = corr / nrm if nrm else corr\n",
    "        out[i] = np.abs(normed)\n",
    "    return out"
   ]
  },
  {
   "cell_type": "code",
   "execution_count": 11,
   "id": "26bd30dc",
   "metadata": {},
   "outputs": [],
   "source": [
    "ref_spectra = ref_df.drop(columns=[\"Label\"]).values\n",
    "ref_labels = ref_df[\"Label\"].values\n",
    "query_spectra = query_df.values\n",
    "\n",
    "ref_proc = preprocess(ref_spectra)\n",
    "query_proc = preprocess(query_spectra)"
   ]
  },
  {
   "cell_type": "code",
   "execution_count": 15,
   "id": "34a4484a",
   "metadata": {},
   "outputs": [
    {
     "data": {
      "text/plain": [
       "0.16666666666666666"
      ]
     },
     "execution_count": 15,
     "metadata": {},
     "output_type": "execute_result"
    }
   ],
   "source": [
    "label_to_spec = dict(zip(ref_labels, ref_proc))\n",
    "\n",
    "# --- Perform linear unmixing via NNLS for each query spectrum ---\n",
    "predictions = []\n",
    "for q_spec in query_proc:\n",
    "    best_error = np.inf\n",
    "    best_pair = (None, None)\n",
    "    best_weights = (0, 0)\n",
    "    for label1, label2 in itertools.combinations(ref_labels, 2):\n",
    "        A = np.vstack([label_to_spec[label1], label_to_spec[label2]]).T\n",
    "        weights, _ = nnls(A, q_spec)\n",
    "        recon = A @ weights\n",
    "        error = np.linalg.norm(q_spec - recon)\n",
    "        if error < best_error:\n",
    "            best_error = error\n",
    "            best_pair = (label1, label2)\n",
    "            best_weights = weights\n",
    "    predictions.append(best_pair)\n",
    "\n",
    "# --- Evaluate accuracy ---\n",
    "correct_1 = sum(set(pred) & set(true) != set() for pred, true in zip(predictions, query_labels))\n",
    "\n",
    "accuracy_top1 = correct_1 / len(query_labels)\n",
    "\n",
    "\n",
    "accuracy_top1"
   ]
  }
 ],
 "metadata": {
  "kernelspec": {
   "display_name": "Python 3",
   "language": "python",
   "name": "python3"
  },
  "language_info": {
   "codemirror_mode": {
    "name": "ipython",
    "version": 3
   },
   "file_extension": ".py",
   "mimetype": "text/x-python",
   "name": "python",
   "nbconvert_exporter": "python",
   "pygments_lexer": "ipython3",
   "version": "3.13.3"
  }
 },
 "nbformat": 4,
 "nbformat_minor": 5
}
