{
 "cells": [
  {
   "cell_type": "code",
   "execution_count": 29,
   "id": "25934f8c",
   "metadata": {},
   "outputs": [],
   "source": [
    "import pandas as pd\n",
    "import numpy as np\n",
    "from sklearn.neighbors import KNeighborsClassifier\n",
    "from sklearn.preprocessing import minmax_scale\n",
    "from scipy.signal import find_peaks\n",
    "import matplotlib.pyplot as plt\n",
    "from sklearn.metrics import accuracy_score, precision_score, recall_score"
   ]
  },
  {
   "cell_type": "code",
   "execution_count": 6,
   "id": "58e467e4",
   "metadata": {},
   "outputs": [],
   "source": [
    "def baseline_als(y, lam=1e4, p=0.01, niter=10):\n",
    "    L = len(y)\n",
    "    D = np.diff(np.eye(L), 2)\n",
    "    D = lam * D.dot(D.T)\n",
    "    w = np.ones(L)\n",
    "    for _ in range(niter):\n",
    "        b = np.linalg.solve(np.diag(w) + D, w * y)\n",
    "        w = p * (y > b) + (1 - p) * (y < b)\n",
    "    return b\n",
    "\n",
    "def preprocess(arr, lam=1e4, p=0.01, niter=10):\n",
    "    out = np.zeros_like(arr)\n",
    "    for i, s in enumerate(arr):\n",
    "        b = baseline_als(s, lam=lam, p=p, niter=niter)\n",
    "        c = s - b\n",
    "        out[i] = c / np.linalg.norm(c) if np.linalg.norm(c) > 0 else c\n",
    "    return out\n",
    "\n",
    "def smooth(spec, K=3):\n",
    "    kernel = np.ones(K) / K\n",
    "    return np.convolve(spec, kernel, mode='same')"
   ]
  },
  {
   "cell_type": "code",
   "execution_count": 7,
   "id": "e2151797",
   "metadata": {},
   "outputs": [],
   "source": [
    "ref_df = pd.read_csv(\"reference_v2.csv\")\n",
    "query_df = pd.read_csv(\"query_only_mixed.csv\")\n",
    "\n",
    "# --- Parameters ---\n",
    "crop_max = 1500\n",
    "lam = 1e4\n",
    "p = 0.01\n",
    "niter = 10\n",
    "K_smooth = 3\n",
    "N_peak = 12\n",
    "w_max = 15\n",
    "height = 0.01\n",
    "prominence = 0.01\n",
    "n_neighbors = 3"
   ]
  },
  {
   "cell_type": "code",
   "execution_count": 8,
   "id": "10aac132",
   "metadata": {},
   "outputs": [],
   "source": [
    "all_feature_cols = ref_df.columns.drop(\"Label\")\n",
    "wavenumbers = pd.to_numeric(all_feature_cols, errors='coerce')\n",
    "keep_mask = (wavenumbers < crop_max) & (~wavenumbers.isna())\n",
    "keep_cols = all_feature_cols[keep_mask]\n",
    "\n",
    "# Re-extract using fixed columns\n",
    "R_raw = ref_df[keep_cols].values\n",
    "Q_raw = query_df[keep_cols].values\n",
    "R_labels = ref_df[\"Label\"].values\n",
    "\n",
    "R_proc = preprocess(R_raw, lam=lam, p=p, niter=niter)\n",
    "Q_proc = preprocess(Q_raw, lam=lam, p=p, niter=niter)"
   ]
  },
  {
   "cell_type": "code",
   "execution_count": 10,
   "id": "eab59839",
   "metadata": {},
   "outputs": [],
   "source": [
    "CPs = {}\n",
    "classes = np.unique(R_labels)\n",
    "for chem in classes:\n",
    "    specs = R_proc[R_labels == chem]\n",
    "    counts = np.zeros(Q_proc.shape[1], int)\n",
    "    for s in specs:\n",
    "        pks, _ = find_peaks(smooth(s, K_smooth), height=height, prominence=prominence)\n",
    "        counts[pks] += 1\n",
    "    CPs[chem] = sorted(np.argsort(counts)[-N_peak:])\n",
    "\n",
    "\n"
   ]
  },
  {
   "cell_type": "code",
   "execution_count": 11,
   "id": "10a98c67",
   "metadata": {},
   "outputs": [],
   "source": [
    "chemical_classifiers = {}\n",
    "for chem in classes:\n",
    "    X_train, y_train = [], []\n",
    "    for i, s in enumerate(R_proc):\n",
    "        cp_vals = [np.max(s[max(0, cp - w_max//2):cp + w_max//2 + 1]) for cp in CPs[chem]]\n",
    "        X_train.append(minmax_scale(cp_vals))\n",
    "        y_train.append(1 if R_labels[i] == chem else 0)\n",
    "    clf = KNeighborsClassifier(n_neighbors=n_neighbors, metric='cosine')\n",
    "    clf.fit(X_train, y_train)\n",
    "    chemical_classifiers[chem] = clf"
   ]
  },
  {
   "cell_type": "code",
   "execution_count": 12,
   "id": "634b2ded",
   "metadata": {},
   "outputs": [],
   "source": [
    "predictions = []\n",
    "for s in Q_proc:\n",
    "    detected = []\n",
    "    for chem in classes:\n",
    "        cp_vals = [np.max(s[max(0, cp - w_max//2):cp + w_max//2 + 1]) for cp in CPs[chem]]\n",
    "        cp_vals = minmax_scale(cp_vals)\n",
    "        pred = chemical_classifiers[chem].predict([cp_vals])[0]\n",
    "        if pred == 1:\n",
    "            detected.append(chem)\n",
    "    predictions.append(detected)"
   ]
  },
  {
   "cell_type": "code",
   "execution_count": 15,
   "id": "446671ab",
   "metadata": {},
   "outputs": [],
   "source": [
    "results_df = pd.DataFrame({\n",
    "    \"True_Label_1\": query_df[\"Label 1\"],\n",
    "    \"True_Label_2\": query_df[\"Label 2\"],\n",
    "    \"Predicted_Labels\": predictions\n",
    "})"
   ]
  },
  {
   "cell_type": "code",
   "execution_count": 30,
   "id": "3e0d4a6f",
   "metadata": {},
   "outputs": [
    {
     "name": "stdout",
     "output_type": "stream",
     "text": [
      "Per-label binary classification performance:\n",
      "                              Accuracy  Precision  Recall\n",
      "n,n-dimethylformamide            1.000        1.0   1.000\n",
      "pyridine                         1.000        1.0   1.000\n",
      "dmmp                             1.000        0.0   0.000\n",
      "benzene                          1.000        1.0   1.000\n",
      "tris(2-ethylhexyl) phosphate     1.000        0.0   0.000\n",
      "benzenethiol                     0.944        1.0   0.500\n",
      "1-undecanethiol                  0.944        0.0   0.000\n",
      "1,9-nonanedithiol                0.944        0.0   0.000\n",
      "etoh                             0.944        1.0   0.667\n",
      "1-dodecanethiol                  0.889        1.0   0.778\n",
      "6-mercapto-1-hexanol             0.889        1.0   0.333\n",
      "meoh                             0.500        0.5   0.111\n",
      "\n",
      "Total Mixture Prediction Accuracy (both labels correct): 33.33% (6 / 18)\n"
     ]
    }
   ],
   "source": [
    "label_scores = {}\n",
    "\n",
    "for chem in classes:\n",
    "    # True labels: whether the chemical is actually present in the mixture\n",
    "    y_true = [(chem in [l1, l2]) for l1, l2 in zip(results_df[\"True_Label_1\"], results_df[\"True_Label_2\"])]\n",
    "    \n",
    "    # Predicted labels: whether the chemical was predicted to be present\n",
    "    y_pred = [chem in preds for preds in results_df[\"Predicted_Labels\"]]\n",
    "    \n",
    "    acc = accuracy_score(y_true, y_pred)\n",
    "    prec = precision_score(y_true, y_pred, zero_division=0)\n",
    "    rec = recall_score(y_true, y_pred, zero_division=0)\n",
    "    \n",
    "    label_scores[chem] = {\n",
    "        \"Accuracy\": acc,\n",
    "        \"Precision\": prec,\n",
    "        \"Recall\": rec\n",
    "    }\n",
    "\n",
    "# Convert to DataFrame and sort\n",
    "label_scores_df = pd.DataFrame.from_dict(label_scores, orient='index')\n",
    "label_scores_df = label_scores_df.sort_values(by='Accuracy', ascending=False)\n",
    "\n",
    "# Display the per-label metrics\n",
    "print(\"Per-label binary classification performance:\")\n",
    "print(label_scores_df.round(3))\n",
    "\n",
    "# ✅ Total Accuracy: full prediction must contain BOTH true labels\n",
    "def is_correct_prediction(true1, true2, pred):\n",
    "    return true1 in pred and true2 in pred\n",
    "\n",
    "total_correct = sum(\n",
    "    is_correct_prediction(row[\"True_Label_1\"], row[\"True_Label_2\"], row[\"Predicted_Labels\"])\n",
    "    for _, row in results_df.iterrows()\n",
    ")\n",
    "\n",
    "total_accuracy = total_correct / len(results_df)\n",
    "print(f\"\\nTotal Mixture Prediction Accuracy (both labels correct): {total_accuracy:.2%} ({total_correct} / {len(results_df)})\")"
   ]
  },
  {
   "cell_type": "code",
   "execution_count": 28,
   "id": "8cc4c874",
   "metadata": {},
   "outputs": [
    {
     "name": "stdout",
     "output_type": "stream",
     "text": [
      "             True_Label_1          True_Label_2  \\\n",
      "0    6-mercapto-1-hexanol               benzene   \n",
      "1    6-mercapto-1-hexanol              pyridine   \n",
      "2                 benzene          benzenethiol   \n",
      "3                 benzene                  etoh   \n",
      "4                 benzene                  meoh   \n",
      "5                    etoh       1-dodecanethiol   \n",
      "6                    etoh                  meoh   \n",
      "7                    meoh       1-dodecanethiol   \n",
      "8                    meoh       1-dodecanethiol   \n",
      "9                    meoh       1-dodecanethiol   \n",
      "10                   meoh       1-dodecanethiol   \n",
      "11                   meoh       1-dodecanethiol   \n",
      "12                   meoh       1-dodecanethiol   \n",
      "13                   meoh       1-dodecanethiol   \n",
      "14  n,n-dimethylformamide  6-mercapto-1-hexanol   \n",
      "15  n,n-dimethylformamide              pyridine   \n",
      "16               pyridine          benzenethiol   \n",
      "17                benzene       1-dodecanethiol   \n",
      "\n",
      "                           Predicted_Labels  \n",
      "0           [6-mercapto-1-hexanol, benzene]  \n",
      "1             [1,9-nonanedithiol, pyridine]  \n",
      "2                   [benzene, benzenethiol]  \n",
      "3                           [benzene, etoh]  \n",
      "4                                 [benzene]  \n",
      "5                                        []  \n",
      "6                                    [etoh]  \n",
      "7                         [1-dodecanethiol]  \n",
      "8                         [1-undecanethiol]  \n",
      "9                         [1-dodecanethiol]  \n",
      "10                  [1-dodecanethiol, meoh]  \n",
      "11                        [1-dodecanethiol]  \n",
      "12                        [1-dodecanethiol]  \n",
      "13                        [1-dodecanethiol]  \n",
      "14                  [n,n-dimethylformamide]  \n",
      "15  [meoh, n,n-dimethylformamide, pyridine]  \n",
      "16                               [pyridine]  \n",
      "17               [1-dodecanethiol, benzene]  \n"
     ]
    }
   ],
   "source": [
    "print(results_df)"
   ]
  }
 ],
 "metadata": {
  "kernelspec": {
   "display_name": "Python 3",
   "language": "python",
   "name": "python3"
  },
  "language_info": {
   "codemirror_mode": {
    "name": "ipython",
    "version": 3
   },
   "file_extension": ".py",
   "mimetype": "text/x-python",
   "name": "python",
   "nbconvert_exporter": "python",
   "pygments_lexer": "ipython3",
   "version": "3.13.3"
  }
 },
 "nbformat": 4,
 "nbformat_minor": 5
}
