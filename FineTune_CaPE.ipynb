{
 "cells": [
  {
   "cell_type": "code",
   "execution_count": 211,
   "id": "84692fbd",
   "metadata": {},
   "outputs": [],
   "source": [
    "#Fine-Tuning CaPE"
   ]
  },
  {
   "cell_type": "code",
   "execution_count": 212,
   "id": "2037d944",
   "metadata": {},
   "outputs": [],
   "source": [
    "import pandas as pd\n",
    "import numpy as np\n",
    "from scipy.signal import find_peaks\n",
    "from sklearn.preprocessing import minmax_scale\n",
    "from itertools import product"
   ]
  },
  {
   "cell_type": "code",
   "execution_count": 213,
   "id": "f08d5945",
   "metadata": {},
   "outputs": [],
   "source": [
    "query_df = pd.read_csv('Test_Data/query_dataset.csv')\n",
    "ref_df   = pd.read_csv('Test_Data/reference_dataset.csv')\n",
    "all_wavs_str = query_df.columns[:-1]\n",
    "all_wavs_numeric = pd.to_numeric(all_wavs_str)\n",
    "\n",
    "wavs_to_keep = all_wavs_str[all_wavs_numeric < 1700].tolist()\n",
    "\n",
    "\n",
    "final_cols_to_keep = wavs_to_keep + ['Species']\n",
    "\n",
    "\n",
    "query_df = query_df[final_cols_to_keep]\n",
    "ref_df   = ref_df[final_cols_to_keep]\n",
    "\n",
    "\n",
    "wavs_str = query_df.columns[:-1]\n",
    "\n",
    "\n",
    "wavs = wavs_str.astype(float)\n"
   ]
  },
  {
   "cell_type": "code",
   "execution_count": 214,
   "id": "6b45fbcc",
   "metadata": {},
   "outputs": [],
   "source": [
    "def baseline_als(y, lam=1e4, p=0.01, niter=10):\n",
    "    L = len(y)\n",
    "    D = np.diff(np.eye(L), 2); D = lam * D.dot(D.T)\n",
    "    w = np.ones(L)\n",
    "    for _ in range(niter):\n",
    "        b = np.linalg.solve(np.diag(w) + D, w * y)\n",
    "        w = p * (y > b) + (1 - p) * (y < b)\n",
    "    return b\n",
    "\n",
    "def preprocess(intensities):\n",
    "    out = np.zeros_like(intensities)\n",
    "    for i, spec in enumerate(intensities):\n",
    "        bkg = baseline_als(spec)\n",
    "        corr = spec - bkg\n",
    "        nrm = np.linalg.norm(corr)\n",
    "        out[i] = corr/nrm if nrm!=0 else corr\n",
    "    return out"
   ]
  },
  {
   "cell_type": "code",
   "execution_count": 215,
   "id": "8e517ade",
   "metadata": {},
   "outputs": [],
   "source": [
    "Q_proc = preprocess(query_df[wavs_str].values.astype(float))\n",
    "R_proc = preprocess(ref_df[wavs_str].values.astype(float))\n",
    "\n",
    "dfQ = pd.DataFrame(Q_proc, columns=wavs_str)\n",
    "dfQ['Species'] = query_df['Species']\n",
    "dfR = pd.DataFrame(R_proc, columns=wavs_str)\n",
    "dfR['Species'] = ref_df['Species']"
   ]
  },
  {
   "cell_type": "code",
   "execution_count": 216,
   "id": "09065e7e",
   "metadata": {},
   "outputs": [],
   "source": [
    "K_vals    = [3]\n",
    "N_vals    = [15]\n",
    "W_vals    = [36]\n",
    "height_vals = [0.02]\n",
    "prominence_vals = [0.02]\n",
    "\n",
    "results = []"
   ]
  },
  {
   "cell_type": "code",
   "execution_count": 217,
   "id": "06070169",
   "metadata": {},
   "outputs": [],
   "source": [
    "for version in ['count', 'intensity']:\n",
    "    for K_smooth, N_peak, w_max, height, prominence in product(K_vals, N_vals, W_vals, height_vals, prominence_vals):\n",
    "        # define smoothing\n",
    "        def smooth_spectrum(spec):\n",
    "            return np.convolve(spec, np.ones(K_smooth)/K_smooth, mode='same')\n",
    "        \n",
    "        # define CaPE\n",
    "        if version == 'count':\n",
    "            def CaPE(refs):\n",
    "                sm = np.array([smooth_spectrum(s) for s in refs])\n",
    "                counts = np.zeros(sm.shape[1], int)\n",
    "                for s in sm:\n",
    "                    pks, _ = find_peaks(s, height=height, prominence=prominence)\n",
    "                    counts[pks] += 1\n",
    "                return sorted(np.argsort(counts)[-N_peak:])\n",
    "        else:\n",
    "            def CaPE(refs):\n",
    "                sm = np.array([smooth_spectrum(s) for s in refs])\n",
    "                intens = np.zeros(sm.shape[1])\n",
    "                for s in sm:\n",
    "                    pks, _ = find_peaks(s, height=height, prominence=prominence)\n",
    "                    intens[pks] += s[pks]\n",
    "                return sorted(np.argsort(intens)[-N_peak:])\n",
    "        \n",
    "        # feature extraction\n",
    "        def extract_vec(spec, cp_idxs):\n",
    "            hw = w_max // 2\n",
    "            vals = [spec[max(0,i-hw):min(len(spec),i+hw+1)].max() for i in cp_idxs]\n",
    "            return minmax_scale(vals)\n",
    "        \n",
    "        # build CPs and compressed references\n",
    "        CPs = {}\n",
    "        Ref_comp = {}\n",
    "        for chem, grp in dfR.groupby('Species'):\n",
    "            cp = CaPE(grp[wavs_str].values)\n",
    "            CPs[chem] = cp\n",
    "            Ref_comp[chem] = np.array([extract_vec(s, cp) for s in grp[wavs_str].values])\n",
    "        \n",
    "        # identification\n",
    "        def CaPSim(qv, rvs): return (rvs @ qv).mean()\n",
    "        def identify(spec):\n",
    "            scores = {chem: CaPSim(extract_vec(spec, CPs[chem]), Ref_comp[chem])\n",
    "                      for chem in CPs}\n",
    "            sorted_chems = sorted(scores, key=scores.get, reverse=True)\n",
    "            return sorted_chems\n",
    "        \n",
    "        # evaluate top-1 and top-2\n",
    "        top1 = top2 = 0\n",
    "        for _, row in dfQ.iterrows():\n",
    "            preds = identify(row[wavs_str].values)\n",
    "            true = row['Species']\n",
    "            if true == preds[0]: top1 += 1\n",
    "            if true in preds[:2]: top2 += 1\n",
    "        total = len(dfQ)\n",
    "        results.append({\n",
    "            'version': version, 'K_smooth': K_smooth,\n",
    "            'N_peak': N_peak, 'w_max': w_max, 'height': height, 'prominence': prominence,\n",
    "            'top1_acc': top1/total, 'top2_acc': top2/total\n",
    "        })"
   ]
  },
  {
   "cell_type": "code",
   "execution_count": 218,
   "id": "30e5fd9f",
   "metadata": {},
   "outputs": [
    {
     "name": "stdout",
     "output_type": "stream",
     "text": [
      "## Top 5 CaPE Parameter Settings\n",
      "\n",
      "| version   |   K_smooth |   N_peak |   w_max |   height |   prominence |   top1_acc |   top2_acc |\n",
      "|:----------|-----------:|---------:|--------:|---------:|-------------:|-----------:|-----------:|\n",
      "| count     |          3 |       15 |      36 |     0.02 |         0.02 |   0.666667 |   0.683333 |\n",
      "| intensity |          3 |       15 |      36 |     0.02 |         0.02 |   0.35     |   0.516667 |\n"
     ]
    }
   ],
   "source": [
    "res_df = pd.DataFrame(results)\n",
    "res_df = res_df.sort_values(['top1_acc', 'top2_acc'], ascending=False).head(5).reset_index(drop=True)\n",
    "\n",
    "# Display\n",
    "print(\"## Top 5 CaPE Parameter Settings\\n\")\n",
    "print(res_df.to_markdown(index=False))"
   ]
  },
  {
   "cell_type": "code",
   "execution_count": 219,
   "id": "a1ca00a1",
   "metadata": {},
   "outputs": [
    {
     "data": {
      "image/png": "[encoded data removed]",
      "text/plain": [
       "<Figure size 800x600 with 2 Axes>"
      ]
     },
     "metadata": {},
     "output_type": "display_data"
    }
   ],
   "source": [
    "import matplotlib.pyplot as plt\n",
    "import seaborn as sns\n",
    "from sklearn.metrics import confusion_matrix\n",
    "\n",
    "# 1) Pick best model\n",
    "best = res_df.iloc[0]\n",
    "version    = best['version']\n",
    "K_smooth   = int(best['K_smooth'])\n",
    "N_peak     = int(best['N_peak'])\n",
    "w_max      = int(best['w_max'])\n",
    "height     = float(best['height'])\n",
    "prominence = float(best['prominence'])\n",
    "\n",
    "# 2) Re-define smooth, CaPE, extract, identify\n",
    "def smooth_spectrum(spec):\n",
    "    return np.convolve(spec, np.ones(K_smooth)/K_smooth, mode='same')\n",
    "\n",
    "if version == 'count':\n",
    "    def CaPE(refs):\n",
    "        sm = np.array([smooth_spectrum(s) for s in refs])\n",
    "        counts = np.zeros(sm.shape[1], int)\n",
    "        for s in sm:\n",
    "            pks, _ = find_peaks(s, height=height, prominence=prominence)\n",
    "            counts[pks] += 1\n",
    "        return sorted(np.argsort(counts)[-N_peak:])\n",
    "else:\n",
    "    def CaPE(refs):\n",
    "        sm = np.array([smooth_spectrum(s) for s in refs])\n",
    "        intens = np.zeros(sm.shape[1])\n",
    "        for s in sm:\n",
    "            pks, _ = find_peaks(s, height=height, prominence=prominence)\n",
    "            intens[pks] += s[pks]\n",
    "        return sorted(np.argsort(intens)[-N_peak:])\n",
    "\n",
    "def extract_vec(spec, cp_idxs):\n",
    "    hw = w_max // 2\n",
    "    return minmax_scale([spec[max(0,i-hw):i+hw+1].max() for i in cp_idxs])\n",
    "\n",
    "# 3) Rebuild CP library\n",
    "CPs, Ref_comp = {}, {}\n",
    "for chem, grp in dfR.groupby('Species'):\n",
    "    cp_idxs = CaPE(grp[wavs_str].values)\n",
    "    CPs[chem] = cp_idxs\n",
    "    Ref_comp[chem] = np.array([extract_vec(s, cp_idxs) for s in grp[wavs_str].values])\n",
    "\n",
    "def identify_top1(spec):\n",
    "    scores = {chem: (Ref_comp[chem] @ extract_vec(spec, CPs[chem])).mean()\n",
    "              for chem in CPs}\n",
    "    return max(scores, key=scores.get)\n",
    "\n",
    "# 4) True vs. Predicted\n",
    "true_labels = dfQ['Species'].values\n",
    "pred_labels = [identify_top1(row[wavs_str].values) for _, row in dfQ.iterrows()]\n",
    "\n",
    "# 5) Confusion Matrix\n",
    "labels = sorted(dfQ['Species'].unique())\n",
    "cm = confusion_matrix(true_labels, pred_labels, labels=labels)\n",
    "\n",
    "plt.figure(figsize=(8,6))\n",
    "sns.heatmap(cm, annot=True, fmt='d', xticklabels=labels, yticklabels=labels, cmap='Blues')\n",
    "plt.xlabel('Predicted')\n",
    "plt.ylabel('True')\n",
    "plt.title('Confusion Matrix for Top-1 Predictions')\n",
    "plt.tight_layout()\n",
    "plt.show()\n"
   ]
  }
 ],
 "metadata": {
  "kernelspec": {
   "display_name": "Python 3",
   "language": "python",
   "name": "python3"
  },
  "language_info": {
   "codemirror_mode": {
    "name": "ipython",
    "version": 3
   },
   "file_extension": ".py",
   "mimetype": "text/x-python",
   "name": "python",
   "nbconvert_exporter": "python",
   "pygments_lexer": "ipython3",
   "version": "3.13.3"
  }
 },
 "nbformat": 4,
 "nbformat_minor": 5
}
