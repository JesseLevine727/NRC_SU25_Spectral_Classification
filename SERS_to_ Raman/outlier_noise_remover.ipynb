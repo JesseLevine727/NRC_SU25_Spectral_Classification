{
 "cells": [
  {
   "cell_type": "code",
   "execution_count": 9,
   "id": "7b3a7ae4",
   "metadata": {},
   "outputs": [],
   "source": [
    "import numpy as np\n",
    "import pandas as pd"
   ]
  },
  {
   "cell_type": "code",
   "execution_count": null,
   "id": "8e6cf5b2",
   "metadata": {},
   "outputs": [],
   "source": [
    "def baseline_als(y, lam=1e4, p=0.01, niter=10):\n",
    "    L = len(y)\n",
    "    D = np.diff(np.eye(L), 2)\n",
    "    D = lam * D @ D.T\n",
    "    w = np.ones(L)\n",
    "    for _ in range(niter):\n",
    "        b = np.linalg.solve(np.diag(w) + D, w * y)\n",
    "        w = p * (y > b) + (1 - p) * (y < b)\n",
    "    return b\n",
    "\n",
    "def preprocess(arr, lam=1e4, p=0.01, niter=10):\n",
    "    out = np.zeros_like(arr)\n",
    "    for i, s in enumerate(arr):\n",
    "        b = baseline_als(s, lam=lam, p=p, niter=niter)\n",
    "        c = s - b\n",
    "        norm = np.linalg.norm(c)\n",
    "        out[i] = (c / norm) if (norm > 0) else c\n",
    "    return out\n",
    "\n",
    "\n",
    "\n",
    "def filter_flat_spectra(df, label_col='Label', noise_pct=5, absolute_thr=None):\n",
    "    \"\"\"\n",
    "    Remove spectra whose std (or RMS) is below a threshold.\n",
    "    \n",
    "    df : DataFrame with wavenumber cols then a 'Label' col at the end\n",
    "    noise_pct : percentile below which to drop (e.g. 5 drops the 5% flattest)\n",
    "    absolute_thr : if set, overrides percentile and uses an absolute std threshold\n",
    "    \"\"\"\n",
    "    wn_cols = df.columns.drop(label_col)\n",
    "    raw = df[wn_cols].values\n",
    "    proc = preprocess(raw)\n",
    "\n",
    "    # compute per‐spectrum std\n",
    "    sigmas = proc.std(axis=1)\n",
    "    \n",
    "    if absolute_thr is None:\n",
    "        thr = np.percentile(sigmas, noise_pct)\n",
    "    else:\n",
    "        thr = absolute_thr\n",
    "    \n",
    "    mask = sigmas > thr\n",
    "    print(f\"Dropping {np.sum(~mask)} / {len(mask)} spectra (std ≤ {thr:.4f})\")\n",
    "    return df.iloc[mask].reset_index(drop=True)"
   ]
  },
  {
   "cell_type": "code",
   "execution_count": 16,
   "id": "18b7a7d7",
   "metadata": {},
   "outputs": [
    {
     "name": "stdout",
     "output_type": "stream",
     "text": [
      "Dropping 2 / 25 spectra (std ≤ 0.0209)\n"
     ]
    }
   ],
   "source": [
    "fname = \"AgNP.csv\"\n",
    "df = pd.read_csv(fname)\n",
    "cleaned = filter_flat_spectra(df, label_col=\"Label\", noise_pct=5)\n",
    "cleaned.to_csv(f\"cleaned_{fname}\", index=False)"
   ]
  }
 ],
 "metadata": {
  "kernelspec": {
   "display_name": "Python 3",
   "language": "python",
   "name": "python3"
  },
  "language_info": {
   "codemirror_mode": {
    "name": "ipython",
    "version": 3
   },
   "file_extension": ".py",
   "mimetype": "text/x-python",
   "name": "python",
   "nbconvert_exporter": "python",
   "pygments_lexer": "ipython3",
   "version": "3.13.3"
  }
 },
 "nbformat": 4,
 "nbformat_minor": 5
}
