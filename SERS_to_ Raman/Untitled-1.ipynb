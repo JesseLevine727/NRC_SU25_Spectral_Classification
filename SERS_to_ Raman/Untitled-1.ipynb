{
 "cells": [
  {
   "cell_type": "code",
   "execution_count": 1,
   "id": "ff2f6111",
   "metadata": {},
   "outputs": [],
   "source": [
    "import sys\n",
    "import pandas as pd\n",
    "from sklearn.model_selection import train_test_split"
   ]
  },
  {
   "cell_type": "code",
   "execution_count": 2,
   "id": "c2a31bd1",
   "metadata": {},
   "outputs": [
    {
     "name": "stdout",
     "output_type": "stream",
     "text": [
      "Done. Files written: reference_Raman_1.csv, reference_Raman_2.csv, reference_Raman_3.csv, reference_Raman_4.csv, reference_Raman_5.csv\n"
     ]
    }
   ],
   "source": [
    "if len(sys.argv) != 2:\n",
    "    print(f\"Usage: {sys.argv[0]} <csv_file>\")\n",
    "    sys.exit(1)\n",
    "\n",
    "csv_path = 'reference_Raman.csv'\n",
    "df = pd.read_csv(csv_path)\n",
    "\n",
    "if 'Label' not in df.columns:\n",
    "    raise KeyError(\"No 'Label' column found in the input CSV.\")\n",
    "\n",
    "# We'll carve off fractions of the *remaining* data:\n",
    "# 1/5, then 1/4 of what's left, then 1/3, then 1/2, and the rest is the final fifth.\n",
    "fractions = [1/5, 1/4, 1/3, 1/2]\n",
    "\n",
    "rest = df.copy()\n",
    "splits = []\n",
    "\n",
    "for frac in fractions:\n",
    "    part, rest = train_test_split(\n",
    "        rest,\n",
    "        train_size=frac,\n",
    "        stratify=rest['Label'],\n",
    "        random_state=42\n",
    "    )\n",
    "    splits.append(part)\n",
    "\n",
    "# Whatever is left is the 5th split\n",
    "splits.append(rest)\n",
    "\n",
    "# Save them out\n",
    "base = csv_path.rsplit('.', 1)[0]\n",
    "for i, part in enumerate(splits, start=1):\n",
    "    out_name = f\"{base}_{i}.csv\"\n",
    "    part.to_csv(out_name, index=False)\n",
    "\n",
    "print(\"Done. Files written:\",\n",
    "      \", \".join(f\"{base}_{i}.csv\" for i in range(1, 6)))\n"
   ]
  },
  {
   "cell_type": "code",
   "execution_count": null,
   "id": "4fb69b32",
   "metadata": {},
   "outputs": [],
   "source": []
  }
 ],
 "metadata": {
  "kernelspec": {
   "display_name": "Python 3",
   "language": "python",
   "name": "python3"
  },
  "language_info": {
   "codemirror_mode": {
    "name": "ipython",
    "version": 3
   },
   "file_extension": ".py",
   "mimetype": "text/x-python",
   "name": "python",
   "nbconvert_exporter": "python",
   "pygments_lexer": "ipython3",
   "version": "3.13.3"
  }
 },
 "nbformat": 4,
 "nbformat_minor": 5
}
