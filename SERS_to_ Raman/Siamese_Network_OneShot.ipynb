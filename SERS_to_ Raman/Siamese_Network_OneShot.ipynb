{
 "cells": [
  {
   "cell_type": "markdown",
   "id": "69aba541",
   "metadata": {},
   "source": [
    "**Siamese Network One-Shot**"
   ]
  },
  {
   "cell_type": "code",
   "execution_count": 52,
   "id": "cfad1f16",
   "metadata": {},
   "outputs": [],
   "source": [
    "import torch\n",
    "import torch.nn as nn\n",
    "import torch.nn.functional as F\n",
    "from torch.utils.data import Dataset, DataLoader\n",
    "import pandas as pd\n",
    "import  numpy as np\n",
    "from sklearn.metrics import accuracy_score, confusion_matrix, classification_report\n",
    "import matplotlib.pyplot as plt\n",
    "from sklearn.model_selection import train_test_split\n",
    "import seaborn as sns"
   ]
  },
  {
   "cell_type": "code",
   "execution_count": 39,
   "id": "d6a9c396",
   "metadata": {},
   "outputs": [],
   "source": [
    "full_df = pd.read_csv('consolidated_SERS.csv')\n",
    "full_df['Class'] = full_df['Label'].astype(str) + '__' + full_df['Substrate'].astype(str)"
   ]
  },
  {
   "cell_type": "code",
   "execution_count": 40,
   "id": "ef59d017",
   "metadata": {},
   "outputs": [],
   "source": [
    "# 3) Split 20% train / 80% query per class\n",
    "train_Df,query_df = train_test_split(full_df,test_size=0.8, stratify=full_df['Class'], random_state=42)\n",
    "train_df = train_df.reset_index(drop=True)\n",
    "query_df = query_df.reset_index(drop=True)"
   ]
  },
  {
   "cell_type": "code",
   "execution_count": 41,
   "id": "b826ecba",
   "metadata": {},
   "outputs": [],
   "source": [
    "# 4) Load averaged SERS per label-substrate as reference for Siamese\n",
    "ref_avg = pd.read_csv('consolidated_SERS_avg.csv')\n",
    "ref_avg['Class'] = ref_avg['Label'].astype(str) + '__' + ref_avg['Substrate'].astype(str)\n",
    "# 5) Identify spectral columns\n",
    "spectral_cols = [c for c in ref_avg.columns if c not in ['Label','Substrate','Class']]\n",
    "\n",
    "# 6) Extract reference and query arrays and labels\n",
    "ref_specs = ref_avg[spectral_cols].values.astype(float)\n",
    "ref_labels = ref_avg['Class'].values\n",
    "\n",
    "qry_specs = query_df[spectral_cols].values.astype(float)\n",
    "qry_labels = query_df['Class'].values"
   ]
  },
  {
   "cell_type": "code",
   "execution_count": 42,
   "id": "8de4f9c8",
   "metadata": {},
   "outputs": [],
   "source": [
    "lam, p, niter = 1e4, 0.01, 10\n",
    "def baseline_als(y):\n",
    "    L = len(y)\n",
    "    D = np.diff(np.eye(L), 2)\n",
    "    D = lam * D.dot(D.T)\n",
    "    w = np.ones(L)\n",
    "    for _ in range(niter):\n",
    "        b = np.linalg.solve(np.diag(w) + D, w * y)\n",
    "        w = p * (y > b) + (1 - p) * (y < b)\n",
    "    return b\n",
    "\n",
    "def preprocess(arr):\n",
    "    out = np.zeros_like(arr)\n",
    "    for i, s in enumerate(arr):\n",
    "        b = baseline_als(s)\n",
    "        c = s - b\n",
    "        norm = np.linalg.norm(c)\n",
    "        out[i] = c / norm if norm > 0 else c\n",
    "    return out"
   ]
  },
  {
   "cell_type": "code",
   "execution_count": 43,
   "id": "932b9544",
   "metadata": {},
   "outputs": [],
   "source": [
    "# Training data\n",
    "train_specs = train_df[spectral_cols].values.astype(float)\n",
    "train_labels = train_df['Class'].values\n",
    "train_proc = preprocess(train_specs)"
   ]
  },
  {
   "cell_type": "code",
   "execution_count": 44,
   "id": "1be34b07",
   "metadata": {},
   "outputs": [],
   "source": [
    "# Query data\n",
    "qry_specs = query_df[spectral_cols].values.astype(float)\n",
    "qry_labels = query_df['Class'].values\n",
    "qry_proc = preprocess(qry_specs)\n",
    "\n",
    "# Reference data (averages)\n",
    "ref_specs = ref_avg[spectral_cols].values.astype(float)\n",
    "ref_labels = ref_avg['Class'].values\n",
    "ref_proc = preprocess(ref_specs)"
   ]
  },
  {
   "cell_type": "code",
   "execution_count": 45,
   "id": "145fcba1",
   "metadata": {},
   "outputs": [
    {
     "data": {
      "text/plain": [
       "array(['4np__AgNP', '4np__PICO', '4np__pSERS', 'benzenethiol__Ag',\n",
       "       'benzenethiol__Au', 'bt__PICO', 'bt__pSERS',\n",
       "       'n,n-dimethylformamide__AuNP', 'pyridine__AgNP', 'pyridine__AuNP',\n",
       "       'pyridine__PICO', 'pyridine__pSERS'], dtype=object)"
      ]
     },
     "execution_count": 45,
     "metadata": {},
     "output_type": "execute_result"
    }
   ],
   "source": [
    "np.unique(qry_labels)"
   ]
  },
  {
   "cell_type": "code",
   "execution_count": 46,
   "id": "ae4eb91c",
   "metadata": {},
   "outputs": [],
   "source": [
    "def augment(spec, noise_std=0.01, shift_max=2):\n",
    "    spec_noisy = spec + np.random.normal(0, noise_std, size=spec.shape)\n",
    "    shift = np.random.randint(-shift_max, shift_max + 1)\n",
    "    return np.roll(spec_noisy, shift)\n",
    "\n",
    "# 3. Pair dataset for contrastive learning\n",
    "class RamanPairDataset(Dataset):\n",
    "    def __init__(self, specs, labels, augment_fn=None):\n",
    "        self.specs = specs\n",
    "        self.labels = labels\n",
    "        self.augment = augment_fn\n",
    "        self.by_label = {c: np.where(labels == c)[0] for c in np.unique(labels)}\n",
    "\n",
    "    def __len__(self):\n",
    "        return len(self.specs)\n",
    "\n",
    "    def __getitem__(self, idx):\n",
    "        x1 = self.specs[idx]\n",
    "        y1 = self.labels[idx]\n",
    "        if np.random.rand() < 0.5:\n",
    "            j = np.random.choice(self.by_label[y1])\n",
    "            label = 1.0\n",
    "        else:\n",
    "            neg = [c for c in self.by_label if c != y1]\n",
    "            y2 = np.random.choice(neg)\n",
    "            j = np.random.choice(self.by_label[y2])\n",
    "            label = 0.0\n",
    "        x2 = self.specs[j]\n",
    "        if self.augment:\n",
    "            x1 = self.augment(x1)\n",
    "            x2 = self.augment(x2)\n",
    "        return (torch.tensor(x1, dtype=torch.float32).unsqueeze(0),\n",
    "                torch.tensor(x2, dtype=torch.float32).unsqueeze(0),\n",
    "                torch.tensor(label, dtype=torch.float32))\n",
    "\n",
    "# 4. Siamese network definition\n",
    "class SiameseNet(nn.Module):\n",
    "    def __init__(self, input_len, embed_dim=64):\n",
    "        super().__init__()\n",
    "        self.encoder = nn.Sequential(\n",
    "            nn.Conv1d(1, 16, kernel_size=7, padding=3), nn.ReLU(),\n",
    "            nn.MaxPool1d(2),\n",
    "            nn.Conv1d(16, 32, kernel_size=5, padding=2), nn.ReLU(),\n",
    "            nn.MaxPool1d(2),\n",
    "            nn.Flatten(),\n",
    "            nn.Linear((input_len // 4) * 32, embed_dim),\n",
    "            nn.ReLU()\n",
    "        )\n",
    "\n",
    "    def forward(self, x):\n",
    "        z = self.encoder(x)\n",
    "        return F.normalize(z, dim=1)\n",
    "\n",
    "# 5. Contrastive loss\n",
    "def contrastive_loss(z1, z2, label, margin=1.0):\n",
    "    dist = F.pairwise_distance(z1, z2)\n",
    "    loss_pos = label * dist**2\n",
    "    loss_neg = (1 - label) * F.relu(margin - dist)**2\n",
    "    return (loss_pos + loss_neg).mean()"
   ]
  },
  {
   "cell_type": "code",
   "execution_count": 47,
   "id": "332a19b3",
   "metadata": {},
   "outputs": [
    {
     "name": "stdout",
     "output_type": "stream",
     "text": [
      "Epoch 1, Loss: 0.4753\n",
      "Epoch 2, Loss: 0.4905\n",
      "Epoch 3, Loss: 0.4158\n",
      "Epoch 4, Loss: 0.4554\n",
      "Epoch 5, Loss: 0.4356\n",
      "Epoch 6, Loss: 0.4950\n",
      "Epoch 7, Loss: 0.4006\n",
      "Epoch 8, Loss: 0.3167\n",
      "Epoch 9, Loss: 0.3762\n",
      "Epoch 10, Loss: 0.5187\n",
      "Epoch 11, Loss: 0.4725\n",
      "Epoch 12, Loss: 0.4850\n",
      "Epoch 13, Loss: 0.4094\n",
      "Epoch 14, Loss: 0.3185\n",
      "Epoch 15, Loss: 0.1152\n",
      "Epoch 16, Loss: 0.1422\n",
      "Epoch 17, Loss: 0.1021\n",
      "Epoch 18, Loss: 0.0747\n",
      "Epoch 19, Loss: 0.0593\n",
      "Epoch 20, Loss: 0.0596\n",
      "Epoch 21, Loss: 0.0427\n",
      "Epoch 22, Loss: 0.0315\n",
      "Epoch 23, Loss: 0.0301\n",
      "Epoch 24, Loss: 0.0362\n",
      "Epoch 25, Loss: 0.0362\n",
      "Epoch 26, Loss: 0.0186\n",
      "Epoch 27, Loss: 0.0453\n",
      "Epoch 28, Loss: 0.0362\n",
      "Epoch 29, Loss: 0.0393\n",
      "Epoch 30, Loss: 0.0149\n",
      "Epoch 31, Loss: 0.0162\n",
      "Epoch 32, Loss: 0.0295\n",
      "Epoch 33, Loss: 0.0260\n",
      "Epoch 34, Loss: 0.0105\n",
      "Epoch 35, Loss: 0.0265\n",
      "Epoch 36, Loss: 0.0372\n",
      "Epoch 37, Loss: 0.0192\n",
      "Epoch 38, Loss: 0.0487\n",
      "Epoch 39, Loss: 0.0158\n",
      "Epoch 40, Loss: 0.0249\n",
      "Epoch 41, Loss: 0.0224\n",
      "Epoch 42, Loss: 0.0204\n",
      "Epoch 43, Loss: 0.0237\n",
      "Epoch 44, Loss: 0.0119\n",
      "Epoch 45, Loss: 0.0270\n",
      "Epoch 46, Loss: 0.0055\n",
      "Epoch 47, Loss: 0.0173\n",
      "Epoch 48, Loss: 0.0208\n",
      "Epoch 49, Loss: 0.0152\n",
      "Epoch 50, Loss: 0.0223\n",
      "Epoch 51, Loss: 0.0164\n",
      "Epoch 52, Loss: 0.0152\n",
      "Epoch 53, Loss: 0.0050\n",
      "Epoch 54, Loss: 0.0240\n",
      "Epoch 55, Loss: 0.0205\n",
      "Epoch 56, Loss: 0.0138\n",
      "Epoch 57, Loss: 0.0240\n",
      "Epoch 58, Loss: 0.0121\n",
      "Epoch 59, Loss: 0.0183\n",
      "Epoch 60, Loss: 0.0066\n",
      "Epoch 61, Loss: 0.0281\n",
      "Epoch 62, Loss: 0.0107\n",
      "Epoch 63, Loss: 0.0086\n",
      "Epoch 64, Loss: 0.0141\n",
      "Epoch 65, Loss: 0.0030\n",
      "Epoch 66, Loss: 0.0174\n",
      "Epoch 67, Loss: 0.0230\n",
      "Epoch 68, Loss: 0.0210\n",
      "Epoch 69, Loss: 0.0104\n",
      "Epoch 70, Loss: 0.0033\n",
      "Epoch 71, Loss: 0.0083\n",
      "Epoch 72, Loss: 0.0132\n",
      "Epoch 73, Loss: 0.0057\n",
      "Epoch 74, Loss: 0.0114\n",
      "Epoch 75, Loss: 0.0035\n",
      "Epoch 76, Loss: 0.0164\n",
      "Epoch 77, Loss: 0.0368\n",
      "Epoch 78, Loss: 0.0162\n",
      "Epoch 79, Loss: 0.0133\n",
      "Epoch 80, Loss: 0.0386\n",
      "Epoch 81, Loss: 0.0118\n",
      "Epoch 82, Loss: 0.0175\n",
      "Epoch 83, Loss: 0.0177\n",
      "Epoch 84, Loss: 0.0110\n",
      "Epoch 85, Loss: 0.0154\n",
      "Epoch 86, Loss: 0.0072\n",
      "Epoch 87, Loss: 0.0061\n",
      "Epoch 88, Loss: 0.0056\n",
      "Epoch 89, Loss: 0.0169\n",
      "Epoch 90, Loss: 0.0049\n",
      "Epoch 91, Loss: 0.0104\n",
      "Epoch 92, Loss: 0.0135\n",
      "Epoch 93, Loss: 0.0035\n",
      "Epoch 94, Loss: 0.0035\n",
      "Epoch 95, Loss: 0.0043\n",
      "Epoch 96, Loss: 0.0139\n",
      "Epoch 97, Loss: 0.0235\n",
      "Epoch 98, Loss: 0.0188\n",
      "Epoch 99, Loss: 0.0071\n",
      "Epoch 100, Loss: 0.0141\n"
     ]
    }
   ],
   "source": [
    "# 8) Prepare DataLoader, model, optimizer\n",
    "input_len = train_proc.shape[1]\n",
    "dataset = RamanPairDataset(train_proc, train_labels, augment_fn=augment)\n",
    "loader = DataLoader(dataset, batch_size=32, shuffle=True)\n",
    "model = SiameseNet(input_len, embed_dim=64)\n",
    "optimizer = torch.optim.Adam(model.parameters(), lr=1e-3)\n",
    "\n",
    "# 9) Train Siamese network\n",
    "model.train()\n",
    "for epoch in range(1, 101):\n",
    "    total_loss = 0.0\n",
    "    for x1, x2, lbl in loader:\n",
    "        z1, z2 = model(x1), model(x2)\n",
    "        loss = contrastive_loss(z1, z2, lbl)\n",
    "        optimizer.zero_grad()\n",
    "        loss.backward()\n",
    "        optimizer.step()\n",
    "        total_loss += loss.item() * x1.size(0)\n",
    "    avg_loss = total_loss / len(dataset)\n",
    "    print(f\"Epoch {epoch}, Loss: {avg_loss:.4f}\")\n",
    "\n"
   ]
  },
  {
   "cell_type": "code",
   "execution_count": 48,
   "id": "3eb8edde",
   "metadata": {},
   "outputs": [],
   "source": [
    "# 10) Compute embeddings for reference and query\n",
    "model.eval()\n",
    "with torch.no_grad():\n",
    "    ref_embeds = model(torch.tensor(ref_proc, dtype=torch.float32).unsqueeze(1)).cpu().numpy()\n",
    "    qry_embeds = model(torch.tensor(qry_proc, dtype=torch.float32).unsqueeze(1)).cpu().numpy()\n",
    "\n",
    "# 11) 1‑NN classification of query against averaged references\n",
    "pred_labels = []\n",
    "for q in qry_embeds:\n",
    "    idx = np.argmin(np.linalg.norm(ref_embeds - q, axis=1))\n",
    "    pred_labels.append(ref_labels[idx])"
   ]
  },
  {
   "cell_type": "code",
   "execution_count": 49,
   "id": "7bb47112",
   "metadata": {},
   "outputs": [
    {
     "data": {
      "text/plain": [
       "array(['4np__AgNP', '4np__PICO', '4np__pSERS', 'benzenethiol__Ag',\n",
       "       'benzenethiol__Au', 'bt__PICO', 'bt__pSERS',\n",
       "       'n,n-dimethylformamide__AuNP', 'pyridine__AgNP', 'pyridine__AuNP',\n",
       "       'pyridine__PICO', 'pyridine__pSERS'], dtype=object)"
      ]
     },
     "execution_count": 49,
     "metadata": {},
     "output_type": "execute_result"
    }
   ],
   "source": [
    "ref_labels"
   ]
  },
  {
   "cell_type": "code",
   "execution_count": 50,
   "id": "4cf85cb4",
   "metadata": {},
   "outputs": [
    {
     "data": {
      "text/plain": [
       "array(['4np__AgNP', '4np__PICO', '4np__pSERS', 'benzenethiol__Ag',\n",
       "       'benzenethiol__Au', 'bt__PICO', 'bt__pSERS',\n",
       "       'n,n-dimethylformamide__AuNP', 'pyridine__AgNP', 'pyridine__AuNP',\n",
       "       'pyridine__PICO', 'pyridine__pSERS'], dtype=object)"
      ]
     },
     "execution_count": 50,
     "metadata": {},
     "output_type": "execute_result"
    }
   ],
   "source": [
    "np.unique(qry_labels)"
   ]
  },
  {
   "cell_type": "code",
   "execution_count": 54,
   "id": "b734ece0",
   "metadata": {},
   "outputs": [
    {
     "name": "stdout",
     "output_type": "stream",
     "text": [
      "Top‑1 Accuracy: 95.29%\n",
      "\n",
      "Classification Report:\n",
      "                             precision    recall  f1-score   support\n",
      "\n",
      "                  4np__AgNP       0.80      0.20      0.32        20\n",
      "                  4np__PICO       1.00      1.00      1.00        20\n",
      "                 4np__pSERS       1.00      1.00      1.00        20\n",
      "           benzenethiol__Ag       0.69      1.00      0.82        20\n",
      "           benzenethiol__Au       0.95      1.00      0.98        20\n",
      "                   bt__PICO       1.00      1.00      1.00        20\n",
      "                  bt__pSERS       1.00      1.00      1.00        20\n",
      "n,n-dimethylformamide__AuNP       0.99      1.00      0.99       183\n",
      "             pyridine__AgNP       0.75      0.90      0.82        20\n",
      "             pyridine__AuNP       1.00      0.95      0.97        20\n",
      "             pyridine__PICO       1.00      1.00      1.00        20\n",
      "            pyridine__pSERS       1.00      1.00      1.00        20\n",
      "\n",
      "                   accuracy                           0.95       403\n",
      "                  macro avg       0.93      0.92      0.91       403\n",
      "               weighted avg       0.95      0.95      0.94       403\n",
      "\n"
     ]
    },
    {
     "data": {
      "image/png": "[encoded data removed]",
      "text/plain": [
       "<Figure size 800x800 with 2 Axes>"
      ]
     },
     "metadata": {},
     "output_type": "display_data"
    }
   ],
   "source": [
    "# 12) Evaluation\n",
    "acc = accuracy_score(qry_labels, pred_labels)\n",
    "print(f\"Top‑1 Accuracy: {acc:.2%}\\n\")\n",
    "print(\"Classification Report:\")\n",
    "print(classification_report(qry_labels, pred_labels, target_names=np.unique(ref_labels)))\n",
    "\n",
    "# 13) Confusion matrix plot\n",
    "classes = np.unique(ref_labels)\n",
    "cm = confusion_matrix(qry_labels, pred_labels, labels=classes)\n",
    "cm_df = pd.DataFrame(cm, index=classes, columns=classes)\n",
    "\n",
    "plt.figure(figsize=(8,8))\n",
    "sns.heatmap(cm_df, annot=True, fmt='d', cmap='Blues',\n",
    "            cbar_kws={'label':'Count'}, linewidths=0.5)\n",
    "plt.xlabel('Predicted Class')\n",
    "plt.ylabel('True Class')\n",
    "plt.title('Confusion Matrix: SERS‑to‑SERS Classification')\n",
    "plt.xticks(rotation=90)\n",
    "plt.yticks(rotation=0)\n",
    "plt.tight_layout()\n",
    "plt.show()"
   ]
  }
 ],
 "metadata": {
  "kernelspec": {
   "display_name": "Python 3",
   "language": "python",
   "name": "python3"
  },
  "language_info": {
   "codemirror_mode": {
    "name": "ipython",
    "version": 3
   },
   "file_extension": ".py",
   "mimetype": "text/x-python",
   "name": "python",
   "nbconvert_exporter": "python",
   "pygments_lexer": "ipython3",
   "version": "3.13.3"
  }
 },
 "nbformat": 4,
 "nbformat_minor": 5
}
