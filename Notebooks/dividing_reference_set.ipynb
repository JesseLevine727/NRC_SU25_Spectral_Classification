{
 "cells": [
  {
   "cell_type": "code",
   "execution_count": 1,
   "id": "70152655",
   "metadata": {},
   "outputs": [
    {
     "name": "stderr",
     "output_type": "stream",
     "text": [
      "C:\\Users\\levinej\\AppData\\Local\\Temp\\ipykernel_16932\\614903144.py:17: DeprecationWarning: DataFrameGroupBy.apply operated on the grouping columns. This behavior is deprecated, and in a future version of pandas the grouping columns will be excluded from the operation. Either pass `include_groups=False` to exclude the groupings or explicitly select the grouping columns after groupby to silence this warning.\n",
      "  .apply(lambda x: x.sample(5, random_state=seed))\n",
      "C:\\Users\\levinej\\AppData\\Local\\Temp\\ipykernel_16932\\614903144.py:17: DeprecationWarning: DataFrameGroupBy.apply operated on the grouping columns. This behavior is deprecated, and in a future version of pandas the grouping columns will be excluded from the operation. Either pass `include_groups=False` to exclude the groupings or explicitly select the grouping columns after groupby to silence this warning.\n",
      "  .apply(lambda x: x.sample(5, random_state=seed))\n",
      "C:\\Users\\levinej\\AppData\\Local\\Temp\\ipykernel_16932\\614903144.py:17: DeprecationWarning: DataFrameGroupBy.apply operated on the grouping columns. This behavior is deprecated, and in a future version of pandas the grouping columns will be excluded from the operation. Either pass `include_groups=False` to exclude the groupings or explicitly select the grouping columns after groupby to silence this warning.\n",
      "  .apply(lambda x: x.sample(5, random_state=seed))\n"
     ]
    },
    {
     "name": "stdout",
     "output_type": "stream",
     "text": [
      "Sub-reference set 1 (seed=42):\n",
      "{'1,9-nonanedithiol': 5, '1-dodecanethiol ': 5, '1-undecanethiol': 5, '6-mercapto-1-hexanol': 5, 'benzene': 5, 'benzenethiol': 5, 'dmmp': 5, 'etoh': 5, 'meoh': 5, 'n,n-dimethylformamide': 5, 'pyridine': 5, 'tris(2-ethylhexyl) phosphate': 5}\n",
      "\n",
      "Sub-reference set 2 (seed=420):\n",
      "{'1,9-nonanedithiol': 5, '1-dodecanethiol ': 5, '1-undecanethiol': 5, '6-mercapto-1-hexanol': 5, 'benzene': 5, 'benzenethiol': 5, 'dmmp': 5, 'etoh': 5, 'meoh': 5, 'n,n-dimethylformamide': 5, 'pyridine': 5, 'tris(2-ethylhexyl) phosphate': 5}\n",
      "\n",
      "Sub-reference set 3 (seed=2025):\n",
      "{'1,9-nonanedithiol': 5, '1-dodecanethiol ': 5, '1-undecanethiol': 5, '6-mercapto-1-hexanol': 5, 'benzene': 5, 'benzenethiol': 5, 'dmmp': 5, 'etoh': 5, 'meoh': 5, 'n,n-dimethylformamide': 5, 'pyridine': 5, 'tris(2-ethylhexyl) phosphate': 5}\n",
      "\n",
      "Sub-reference set 4 (seed=1234):\n",
      "{'1,9-nonanedithiol': 5, '1-dodecanethiol ': 5, '1-undecanethiol': 5, '6-mercapto-1-hexanol': 5, 'benzene': 5, 'benzenethiol': 5, 'dmmp': 5, 'etoh': 5, 'meoh': 5, 'n,n-dimethylformamide': 5, 'pyridine': 5, 'tris(2-ethylhexyl) phosphate': 5}\n",
      "\n",
      "Sub-reference set 5 (seed=9999):\n",
      "{'1,9-nonanedithiol': 5, '1-dodecanethiol ': 5, '1-undecanethiol': 5, '6-mercapto-1-hexanol': 5, 'benzene': 5, 'benzenethiol': 5, 'dmmp': 5, 'etoh': 5, 'meoh': 5, 'n,n-dimethylformamide': 5, 'pyridine': 5, 'tris(2-ethylhexyl) phosphate': 5}\n",
      "\n"
     ]
    },
    {
     "name": "stderr",
     "output_type": "stream",
     "text": [
      "C:\\Users\\levinej\\AppData\\Local\\Temp\\ipykernel_16932\\614903144.py:17: DeprecationWarning: DataFrameGroupBy.apply operated on the grouping columns. This behavior is deprecated, and in a future version of pandas the grouping columns will be excluded from the operation. Either pass `include_groups=False` to exclude the groupings or explicitly select the grouping columns after groupby to silence this warning.\n",
      "  .apply(lambda x: x.sample(5, random_state=seed))\n",
      "C:\\Users\\levinej\\AppData\\Local\\Temp\\ipykernel_16932\\614903144.py:17: DeprecationWarning: DataFrameGroupBy.apply operated on the grouping columns. This behavior is deprecated, and in a future version of pandas the grouping columns will be excluded from the operation. Either pass `include_groups=False` to exclude the groupings or explicitly select the grouping columns after groupby to silence this warning.\n",
      "  .apply(lambda x: x.sample(5, random_state=seed))\n"
     ]
    }
   ],
   "source": [
    "import pandas as pd\n",
    "\n",
    "# Load your full reference dataset\n",
    "df = pd.read_csv('Jesse_Dataset/reference.csv')\n",
    "\n",
    "# Make sure you’re grouping by the correct column name:\n",
    "label_col = 'Label'  # or 'Label' if you renamed it already\n",
    "\n",
    "# List of random seeds for reproducibility\n",
    "seeds = [42, 420, 2025, 1234, 9999]\n",
    "\n",
    "for i, seed in enumerate(seeds, start=1):\n",
    "    # Sample 5 examples per label\n",
    "    sub_ref = (\n",
    "        df\n",
    "        .groupby(label_col, group_keys=False)\n",
    "        .apply(lambda x: x.sample(5, random_state=seed))\n",
    "    )\n",
    "    \n",
    "    # (Optional) verify counts\n",
    "    counts = sub_ref[label_col].value_counts().sort_index()\n",
    "    print(f\"Sub-reference set {i} (seed={seed}):\")\n",
    "    print(counts.to_dict())\n",
    "    print()\n",
    "    \n",
    "    # Save out\n",
    "    out_file = f'Jesse_Dataset/reference_subset_{i}.csv'\n",
    "    sub_ref.to_csv(out_file, index=False)\n"
   ]
  }
 ],
 "metadata": {
  "kernelspec": {
   "display_name": "Python 3",
   "language": "python",
   "name": "python3"
  },
  "language_info": {
   "codemirror_mode": {
    "name": "ipython",
    "version": 3
   },
   "file_extension": ".py",
   "mimetype": "text/x-python",
   "name": "python",
   "nbconvert_exporter": "python",
   "pygments_lexer": "ipython3",
   "version": "3.13.3"
  }
 },
 "nbformat": 4,
 "nbformat_minor": 5
}
